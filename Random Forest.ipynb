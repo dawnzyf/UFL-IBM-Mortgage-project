{
 "cells": [
  {
   "cell_type": "code",
   "execution_count": 1,
   "metadata": {},
   "outputs": [],
   "source": [
    "import pandas as pd\n",
    "import numpy as np\n",
    "import sklearn\n",
    "from sklearn.model_selection import train_test_split\n",
    "from sklearn.ensemble import RandomForestClassifier\n",
    "from sklearn.model_selection import cross_val_score\n",
    "from sklearn.model_selection import GridSearchCV\n",
    "from sklearn.tree import export_graphviz\n",
    "import pydot\n",
    "import pydotplus\n",
    "from IPython.display import Image\n",
    "from sklearn import preprocessing\n",
    "from sklearn.metrics import roc_curve\n",
    "from sklearn.metrics import auc\n",
    "from sklearn import tree\n",
    "from imblearn.over_sampling import SMOTE\n",
    "from sklearn.metrics import accuracy_score, confusion_matrix, f1_score, precision_recall_curve, roc_auc_score, classification_report, plot_roc_curve"
   ]
  },
  {
   "cell_type": "code",
   "execution_count": 2,
   "metadata": {},
   "outputs": [],
   "source": [
    "import os\n",
    "os.environ[\"PATH\"] += os.pathsep + 'D:/programs/Graphviz/bin'"
   ]
  },
  {
   "cell_type": "code",
   "execution_count": 3,
   "metadata": {
    "scrolled": true
   },
   "outputs": [
    {
     "data": {
      "text/html": [
       "<div>\n",
       "<style scoped>\n",
       "    .dataframe tbody tr th:only-of-type {\n",
       "        vertical-align: middle;\n",
       "    }\n",
       "\n",
       "    .dataframe tbody tr th {\n",
       "        vertical-align: top;\n",
       "    }\n",
       "\n",
       "    .dataframe thead th {\n",
       "        text-align: right;\n",
       "    }\n",
       "</style>\n",
       "<table border=\"1\" class=\"dataframe\">\n",
       "  <thead>\n",
       "    <tr style=\"text-align: right;\">\n",
       "      <th></th>\n",
       "      <th>id</th>\n",
       "      <th>time</th>\n",
       "      <th>orig_time</th>\n",
       "      <th>first_time</th>\n",
       "      <th>mat_time</th>\n",
       "      <th>balance_time</th>\n",
       "      <th>LTV_time</th>\n",
       "      <th>interest_rate_time</th>\n",
       "      <th>hpi_time</th>\n",
       "      <th>gdp_time</th>\n",
       "      <th>...</th>\n",
       "      <th>gdp_dif</th>\n",
       "      <th>gdp_inc</th>\n",
       "      <th>uer_orig</th>\n",
       "      <th>uer_avg</th>\n",
       "      <th>uer_dif</th>\n",
       "      <th>uer_inc</th>\n",
       "      <th>hpi_avg</th>\n",
       "      <th>hpi_dif</th>\n",
       "      <th>hpi_inc</th>\n",
       "      <th>status_time</th>\n",
       "    </tr>\n",
       "  </thead>\n",
       "  <tbody>\n",
       "    <tr>\n",
       "      <th>0</th>\n",
       "      <td>1</td>\n",
       "      <td>48</td>\n",
       "      <td>-7</td>\n",
       "      <td>25</td>\n",
       "      <td>113</td>\n",
       "      <td>29087.21</td>\n",
       "      <td>26.658065</td>\n",
       "      <td>9.200</td>\n",
       "      <td>146.45</td>\n",
       "      <td>2.715903</td>\n",
       "      <td>...</td>\n",
       "      <td>-0.183234</td>\n",
       "      <td>-0.063203</td>\n",
       "      <td>4.7</td>\n",
       "      <td>7.241667</td>\n",
       "      <td>3.6</td>\n",
       "      <td>0.765957</td>\n",
       "      <td>176.657917</td>\n",
       "      <td>59.42</td>\n",
       "      <td>0.682753</td>\n",
       "      <td>1</td>\n",
       "    </tr>\n",
       "    <tr>\n",
       "      <th>1</th>\n",
       "      <td>2</td>\n",
       "      <td>26</td>\n",
       "      <td>18</td>\n",
       "      <td>25</td>\n",
       "      <td>138</td>\n",
       "      <td>105654.77</td>\n",
       "      <td>65.469851</td>\n",
       "      <td>7.680</td>\n",
       "      <td>225.10</td>\n",
       "      <td>2.151365</td>\n",
       "      <td>...</td>\n",
       "      <td>-0.747772</td>\n",
       "      <td>-0.257929</td>\n",
       "      <td>4.7</td>\n",
       "      <td>4.700000</td>\n",
       "      <td>0.0</td>\n",
       "      <td>0.000000</td>\n",
       "      <td>225.695000</td>\n",
       "      <td>38.19</td>\n",
       "      <td>0.204323</td>\n",
       "      <td>2</td>\n",
       "    </tr>\n",
       "    <tr>\n",
       "      <th>2</th>\n",
       "      <td>3</td>\n",
       "      <td>29</td>\n",
       "      <td>-6</td>\n",
       "      <td>25</td>\n",
       "      <td>114</td>\n",
       "      <td>44378.60</td>\n",
       "      <td>31.459735</td>\n",
       "      <td>11.375</td>\n",
       "      <td>217.37</td>\n",
       "      <td>1.692969</td>\n",
       "      <td>...</td>\n",
       "      <td>-1.206168</td>\n",
       "      <td>-0.416044</td>\n",
       "      <td>4.7</td>\n",
       "      <td>4.580000</td>\n",
       "      <td>-0.2</td>\n",
       "      <td>-0.042553</td>\n",
       "      <td>222.164000</td>\n",
       "      <td>127.79</td>\n",
       "      <td>1.426546</td>\n",
       "      <td>2</td>\n",
       "    </tr>\n",
       "    <tr>\n",
       "      <th>3</th>\n",
       "      <td>5</td>\n",
       "      <td>27</td>\n",
       "      <td>18</td>\n",
       "      <td>25</td>\n",
       "      <td>138</td>\n",
       "      <td>52100.71</td>\n",
       "      <td>66.346343</td>\n",
       "      <td>9.155</td>\n",
       "      <td>222.39</td>\n",
       "      <td>2.361722</td>\n",
       "      <td>...</td>\n",
       "      <td>-0.537415</td>\n",
       "      <td>-0.185371</td>\n",
       "      <td>4.7</td>\n",
       "      <td>4.600000</td>\n",
       "      <td>-0.3</td>\n",
       "      <td>-0.063830</td>\n",
       "      <td>224.593333</td>\n",
       "      <td>35.48</td>\n",
       "      <td>0.189824</td>\n",
       "      <td>2</td>\n",
       "    </tr>\n",
       "    <tr>\n",
       "      <th>4</th>\n",
       "      <td>6</td>\n",
       "      <td>56</td>\n",
       "      <td>19</td>\n",
       "      <td>25</td>\n",
       "      <td>139</td>\n",
       "      <td>190474.11</td>\n",
       "      <td>75.834755</td>\n",
       "      <td>6.580</td>\n",
       "      <td>181.43</td>\n",
       "      <td>1.717053</td>\n",
       "      <td>...</td>\n",
       "      <td>-1.182084</td>\n",
       "      <td>-0.407736</td>\n",
       "      <td>4.7</td>\n",
       "      <td>7.319355</td>\n",
       "      <td>1.9</td>\n",
       "      <td>0.404255</td>\n",
       "      <td>175.143226</td>\n",
       "      <td>-9.99</td>\n",
       "      <td>-0.052189</td>\n",
       "      <td>1</td>\n",
       "    </tr>\n",
       "  </tbody>\n",
       "</table>\n",
       "<p>5 rows × 35 columns</p>\n",
       "</div>"
      ],
      "text/plain": [
       "   id  time  orig_time  first_time  mat_time  balance_time   LTV_time  \\\n",
       "0   1    48         -7          25       113      29087.21  26.658065   \n",
       "1   2    26         18          25       138     105654.77  65.469851   \n",
       "2   3    29         -6          25       114      44378.60  31.459735   \n",
       "3   5    27         18          25       138      52100.71  66.346343   \n",
       "4   6    56         19          25       139     190474.11  75.834755   \n",
       "\n",
       "   interest_rate_time  hpi_time  gdp_time  ...   gdp_dif   gdp_inc  uer_orig  \\\n",
       "0               9.200    146.45  2.715903  ... -0.183234 -0.063203       4.7   \n",
       "1               7.680    225.10  2.151365  ... -0.747772 -0.257929       4.7   \n",
       "2              11.375    217.37  1.692969  ... -1.206168 -0.416044       4.7   \n",
       "3               9.155    222.39  2.361722  ... -0.537415 -0.185371       4.7   \n",
       "4               6.580    181.43  1.717053  ... -1.182084 -0.407736       4.7   \n",
       "\n",
       "    uer_avg  uer_dif   uer_inc     hpi_avg  hpi_dif   hpi_inc  status_time  \n",
       "0  7.241667      3.6  0.765957  176.657917    59.42  0.682753            1  \n",
       "1  4.700000      0.0  0.000000  225.695000    38.19  0.204323            2  \n",
       "2  4.580000     -0.2 -0.042553  222.164000   127.79  1.426546            2  \n",
       "3  4.600000     -0.3 -0.063830  224.593333    35.48  0.189824            2  \n",
       "4  7.319355      1.9  0.404255  175.143226    -9.99 -0.052189            1  \n",
       "\n",
       "[5 rows x 35 columns]"
      ]
     },
     "execution_count": 3,
     "metadata": {},
     "output_type": "execute_result"
    }
   ],
   "source": [
    "df = pd.read_csv(\"mortgage_final_data.csv\")\n",
    "df.head(5)"
   ]
  },
  {
   "cell_type": "code",
   "execution_count": 4,
   "metadata": {
    "scrolled": true
   },
   "outputs": [],
   "source": [
    "df = pd.read_csv(\"mortgage_final_data.csv\")\n",
    "X = pd.DataFrame(df)\n",
    "y = pd.DataFrame(df[\"status_time\"])\n",
    "X = X.drop(columns = [\"status_time\", \"id\"])\n",
    "feature_list = list(X.columns)\n",
    "y=y.to_numpy()"
   ]
  },
  {
   "cell_type": "code",
   "execution_count": 5,
   "metadata": {
    "scrolled": true
   },
   "outputs": [],
   "source": [
    "X_train, X_valid, y_train, y_valid = sklearn.model_selection.train_test_split(X, y.ravel(), test_size=0.2, random_state=7)"
   ]
  },
  {
   "cell_type": "code",
   "execution_count": 6,
   "metadata": {
    "scrolled": false
   },
   "outputs": [
    {
     "data": {
      "text/plain": [
       "RandomForestClassifier(n_jobs=-1, oob_score=True, random_state=7)"
      ]
     },
     "execution_count": 6,
     "metadata": {},
     "output_type": "execute_result"
    }
   ],
   "source": [
    "rf =RandomForestClassifier(oob_score=True,random_state=7,n_jobs=-1)\n",
    "rf.fit(X_train, y_train)"
   ]
  },
  {
   "cell_type": "code",
   "execution_count": 7,
   "metadata": {},
   "outputs": [
    {
     "data": {
      "text/plain": [
       "0.7989456026839205"
      ]
     },
     "execution_count": 7,
     "metadata": {},
     "output_type": "execute_result"
    }
   ],
   "source": [
    "rf.score(X_valid, y_valid)"
   ]
  },
  {
   "cell_type": "code",
   "execution_count": 8,
   "metadata": {},
   "outputs": [
    {
     "data": {
      "text/plain": [
       "0.999970044633496"
      ]
     },
     "execution_count": 8,
     "metadata": {},
     "output_type": "execute_result"
    }
   ],
   "source": [
    "rf.score(X_train, y_train)"
   ]
  },
  {
   "cell_type": "code",
   "execution_count": 9,
   "metadata": {
    "scrolled": false
   },
   "outputs": [
    {
     "data": {
      "text/plain": [
       "<sklearn.metrics._plot.roc_curve.RocCurveDisplay at 0x23237fbf808>"
      ]
     },
     "execution_count": 9,
     "metadata": {},
     "output_type": "execute_result"
    },
    {
     "data": {
      "image/png": "[encoded data removed]",
      "text/plain": [
       "<Figure size 432x288 with 1 Axes>"
      ]
     },
     "metadata": {
      "needs_background": "light"
     },
     "output_type": "display_data"
    }
   ],
   "source": [
    "plot_roc_curve(rf, X_valid, y_valid)"
   ]
  },
  {
   "cell_type": "code",
   "execution_count": null,
   "metadata": {
    "scrolled": true
   },
   "outputs": [],
   "source": [
    "param_test1 = {\"n_estimators\":range(1,301,10)}\n",
    "gsearch1 = GridSearchCV(estimator=RandomForestClassifier(),param_grid=param_test1,\n",
    "                        scoring='roc_auc',cv=10,n_jobs=-1)\n",
    "gsearch1.fit(X_train, y_train)\n",
    "\n",
    "print(gsearch1.best_params_)\n",
    "print(\"best accuracy:%f\" % gsearch1.best_score_)"
   ]
  },
  {
   "cell_type": "code",
   "execution_count": null,
   "metadata": {},
   "outputs": [],
   "source": [
    "param_test2 = {\"max_features\":range(1,11,1)}\n",
    "gsearch1 = GridSearchCV(estimator=RandomForestClassifier(n_estimators=251,\n",
    "                        random_state=7,n_jobs=-1),\n",
    "                        param_grid = param_test2,scoring='roc_auc',cv=10)\n",
    "gsearch1.fit(X_train,y_train)\n",
    "print(gsearch1.best_params_)\n",
    "print('best accuracy:%f' % gsearch1.best_score_)"
   ]
  },
  {
   "cell_type": "code",
   "execution_count": null,
   "metadata": {},
   "outputs": [],
   "source": [
    "param_test3 = {\"max_depth\":range(1,12,1)}\n",
    "gsearch1 = GridSearchCV(estimator=RandomForestClassifier(n_estimators=251,\n",
    "                        max_features=6,random_state=7),\n",
    "                        param_grid = param_test3,scoring='roc_auc',cv=10,n_jobs=-1)\n",
    "gsearch1.fit(X_train, y_train)\n",
    "print(gsearch1.best_params_)\n",
    "print('best accuracy:%f' % gsearch1.best_score_)"
   ]
  },
  {
   "cell_type": "code",
   "execution_count": null,
   "metadata": {
    "scrolled": false
   },
   "outputs": [],
   "source": [
    "rf1 = RandomForestClassifier(n_estimators=251,max_features=6,\n",
    "                             max_depth=11,oob_score=True,random_state=7, n_jobs=-1)\n",
    "rf1.fit(X_train,y_train)\n"
   ]
  },
  {
   "cell_type": "code",
   "execution_count": null,
   "metadata": {
    "scrolled": true
   },
   "outputs": [],
   "source": [
    "rf1.score(X_train, y_train)\n"
   ]
  },
  {
   "cell_type": "code",
   "execution_count": null,
   "metadata": {},
   "outputs": [],
   "source": [
    "rf1.score(X_valid, y_valid)"
   ]
  },
  {
   "cell_type": "code",
   "execution_count": null,
   "metadata": {
    "scrolled": false
   },
   "outputs": [],
   "source": [
    "plot_roc_curve(rf1, X_valid, y_valid)"
   ]
  },
  {
   "cell_type": "code",
   "execution_count": null,
   "metadata": {},
   "outputs": [],
   "source": [
    "importances = list(rf1.feature_importances_)\n",
    "\n",
    "feature_importances = [(feature, round(importance, 2)) for feature, importance in zip(feature_list, importances)]\n",
    "\n",
    "feature_importances = sorted(feature_importances, key = lambda x: x[1], reverse = True)\n",
    "\n",
    "[print('Variable: {:20} Importance: {}'.format(*pair)) for pair in feature_importances];"
   ]
  },
  {
   "cell_type": "code",
   "execution_count": null,
   "metadata": {},
   "outputs": [],
   "source": [
    "# Import matplotlib for plotting and use magic command for Jupyter Notebooks\n",
    "import matplotlib.pyplot as plt\n",
    "%matplotlib inline\n",
    "# Set the style\n",
    "plt.style.use('ggplot')\n",
    "# list of x locations for plotting\n",
    "x_values = list(range(len(importances)))\n",
    "# Make a bar chart\n",
    "plt.bar(x_values, importances, orientation = 'vertical')\n",
    "# Tick labels for x axis\n",
    "plt.xticks(x_values, feature_list, rotation='vertical')\n",
    "# Axis labels and title\n",
    "plt.ylabel('Importance'); plt.xlabel('Variable'); plt.title('Variable Importances');"
   ]
  },
  {
   "cell_type": "code",
   "execution_count": null,
   "metadata": {
    "scrolled": true
   },
   "outputs": [],
   "source": [
    "Estimators =rf1.estimators_"
   ]
  },
  {
   "cell_type": "code",
   "execution_count": null,
   "metadata": {},
   "outputs": [],
   "source": [
    "X = df.drop(columns = [\"status_time\", \"id\"])"
   ]
  },
  {
   "cell_type": "code",
   "execution_count": null,
   "metadata": {},
   "outputs": [],
   "source": [
    "X=X.columns.values\n",
    "Y=\"Status_time\""
   ]
  },
  {
   "cell_type": "code",
   "execution_count": null,
   "metadata": {},
   "outputs": [],
   "source": [
    "for index, model in enumerate(Estimators):\n",
    "    filename = 'IBM' + str(index) + '.pdf'\n",
    "    dot_data = tree.export_graphviz(model , out_file=None,\n",
    "                         feature_names=X,\n",
    "                         class_names=Y,\n",
    "                         filled=True, rounded=True)\n",
    "    graph = pydotplus.graph_from_dot_data(dot_data)\n",
    "    Image(graph.create_png())\n",
    "    graph.write_pdf(filename)"
   ]
  },
  {
   "cell_type": "code",
   "execution_count": null,
   "metadata": {},
   "outputs": [],
   "source": []
  }
 ],
 "metadata": {
  "kernelspec": {
   "display_name": "Python 3",
   "language": "python",
   "name": "python3"
  },
  "language_info": {
   "codemirror_mode": {
    "name": "ipython",
    "version": 3
   },
   "file_extension": ".py",
   "mimetype": "text/x-python",
   "name": "python",
   "nbconvert_exporter": "python",
   "pygments_lexer": "ipython3",
   "version": "3.7.10"
  }
 },
 "nbformat": 4,
 "nbformat_minor": 4
}
