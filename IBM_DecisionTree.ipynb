{
 "cells": [
  {
   "cell_type": "code",
   "execution_count": 4,
   "metadata": {},
   "outputs": [],
   "source": [
    "import numpy as np\n",
    "import pandas as pd\n",
    "import matplotlib.pyplot as plt\n",
    "from sklearn.preprocessing import LabelBinarizer\n",
    "from sklearn.tree import DecisionTreeClassifier\n",
    "from sklearn.model_selection import train_test_split, cross_val_score, learning_curve, validation_curve, GridSearchCV\n",
    "from sklearn.metrics import accuracy_score, confusion_matrix, f1_score, precision_recall_curve, roc_auc_score, classification_report, plot_roc_curve\n",
    "from imblearn.over_sampling import SMOTE\n",
    "from sklearn import tree\n",
    "import graphviz\n",
    "import pydot\n",
    "import io\n",
    "from sklearn.tree import export_graphviz"
   ]
  },
  {
   "cell_type": "code",
   "execution_count": 5,
   "metadata": {},
   "outputs": [],
   "source": [
    "#load data\n",
    "data=pd.read_csv(\"mortgage_final_data.csv\")"
   ]
  },
  {
   "cell_type": "code",
   "execution_count": 6,
   "metadata": {
    "scrolled": true
   },
   "outputs": [
    {
     "data": {
      "text/html": [
       "<div>\n",
       "<style scoped>\n",
       "    .dataframe tbody tr th:only-of-type {\n",
       "        vertical-align: middle;\n",
       "    }\n",
       "\n",
       "    .dataframe tbody tr th {\n",
       "        vertical-align: top;\n",
       "    }\n",
       "\n",
       "    .dataframe thead th {\n",
       "        text-align: right;\n",
       "    }\n",
       "</style>\n",
       "<table border=\"1\" class=\"dataframe\">\n",
       "  <thead>\n",
       "    <tr style=\"text-align: right;\">\n",
       "      <th></th>\n",
       "      <th>id</th>\n",
       "      <th>time</th>\n",
       "      <th>orig_time</th>\n",
       "      <th>first_time</th>\n",
       "      <th>mat_time</th>\n",
       "      <th>balance_time</th>\n",
       "      <th>LTV_time</th>\n",
       "      <th>interest_rate_time</th>\n",
       "      <th>hpi_time</th>\n",
       "      <th>gdp_time</th>\n",
       "      <th>...</th>\n",
       "      <th>gdp_dif</th>\n",
       "      <th>gdp_inc</th>\n",
       "      <th>uer_orig</th>\n",
       "      <th>uer_avg</th>\n",
       "      <th>uer_dif</th>\n",
       "      <th>uer_inc</th>\n",
       "      <th>hpi_avg</th>\n",
       "      <th>hpi_dif</th>\n",
       "      <th>hpi_inc</th>\n",
       "      <th>status_time</th>\n",
       "    </tr>\n",
       "  </thead>\n",
       "  <tbody>\n",
       "    <tr>\n",
       "      <th>0</th>\n",
       "      <td>1</td>\n",
       "      <td>48</td>\n",
       "      <td>-7</td>\n",
       "      <td>25</td>\n",
       "      <td>113</td>\n",
       "      <td>29087.21</td>\n",
       "      <td>26.658065</td>\n",
       "      <td>9.200</td>\n",
       "      <td>146.45</td>\n",
       "      <td>2.715903</td>\n",
       "      <td>...</td>\n",
       "      <td>-0.183234</td>\n",
       "      <td>-0.063203</td>\n",
       "      <td>4.7</td>\n",
       "      <td>7.241667</td>\n",
       "      <td>3.6</td>\n",
       "      <td>0.765957</td>\n",
       "      <td>176.657917</td>\n",
       "      <td>59.42</td>\n",
       "      <td>0.682753</td>\n",
       "      <td>1</td>\n",
       "    </tr>\n",
       "    <tr>\n",
       "      <th>1</th>\n",
       "      <td>2</td>\n",
       "      <td>26</td>\n",
       "      <td>18</td>\n",
       "      <td>25</td>\n",
       "      <td>138</td>\n",
       "      <td>105654.77</td>\n",
       "      <td>65.469851</td>\n",
       "      <td>7.680</td>\n",
       "      <td>225.10</td>\n",
       "      <td>2.151365</td>\n",
       "      <td>...</td>\n",
       "      <td>-0.747772</td>\n",
       "      <td>-0.257929</td>\n",
       "      <td>4.7</td>\n",
       "      <td>4.700000</td>\n",
       "      <td>0.0</td>\n",
       "      <td>0.000000</td>\n",
       "      <td>225.695000</td>\n",
       "      <td>38.19</td>\n",
       "      <td>0.204323</td>\n",
       "      <td>2</td>\n",
       "    </tr>\n",
       "    <tr>\n",
       "      <th>2</th>\n",
       "      <td>3</td>\n",
       "      <td>29</td>\n",
       "      <td>-6</td>\n",
       "      <td>25</td>\n",
       "      <td>114</td>\n",
       "      <td>44378.60</td>\n",
       "      <td>31.459735</td>\n",
       "      <td>11.375</td>\n",
       "      <td>217.37</td>\n",
       "      <td>1.692969</td>\n",
       "      <td>...</td>\n",
       "      <td>-1.206168</td>\n",
       "      <td>-0.416044</td>\n",
       "      <td>4.7</td>\n",
       "      <td>4.580000</td>\n",
       "      <td>-0.2</td>\n",
       "      <td>-0.042553</td>\n",
       "      <td>222.164000</td>\n",
       "      <td>127.79</td>\n",
       "      <td>1.426546</td>\n",
       "      <td>2</td>\n",
       "    </tr>\n",
       "    <tr>\n",
       "      <th>3</th>\n",
       "      <td>5</td>\n",
       "      <td>27</td>\n",
       "      <td>18</td>\n",
       "      <td>25</td>\n",
       "      <td>138</td>\n",
       "      <td>52100.71</td>\n",
       "      <td>66.346343</td>\n",
       "      <td>9.155</td>\n",
       "      <td>222.39</td>\n",
       "      <td>2.361722</td>\n",
       "      <td>...</td>\n",
       "      <td>-0.537415</td>\n",
       "      <td>-0.185371</td>\n",
       "      <td>4.7</td>\n",
       "      <td>4.600000</td>\n",
       "      <td>-0.3</td>\n",
       "      <td>-0.063830</td>\n",
       "      <td>224.593333</td>\n",
       "      <td>35.48</td>\n",
       "      <td>0.189824</td>\n",
       "      <td>2</td>\n",
       "    </tr>\n",
       "    <tr>\n",
       "      <th>4</th>\n",
       "      <td>6</td>\n",
       "      <td>56</td>\n",
       "      <td>19</td>\n",
       "      <td>25</td>\n",
       "      <td>139</td>\n",
       "      <td>190474.11</td>\n",
       "      <td>75.834755</td>\n",
       "      <td>6.580</td>\n",
       "      <td>181.43</td>\n",
       "      <td>1.717053</td>\n",
       "      <td>...</td>\n",
       "      <td>-1.182084</td>\n",
       "      <td>-0.407736</td>\n",
       "      <td>4.7</td>\n",
       "      <td>7.319355</td>\n",
       "      <td>1.9</td>\n",
       "      <td>0.404255</td>\n",
       "      <td>175.143226</td>\n",
       "      <td>-9.99</td>\n",
       "      <td>-0.052189</td>\n",
       "      <td>1</td>\n",
       "    </tr>\n",
       "  </tbody>\n",
       "</table>\n",
       "<p>5 rows × 35 columns</p>\n",
       "</div>"
      ],
      "text/plain": [
       "   id  time  orig_time  first_time  mat_time  balance_time   LTV_time  \\\n",
       "0   1    48         -7          25       113      29087.21  26.658065   \n",
       "1   2    26         18          25       138     105654.77  65.469851   \n",
       "2   3    29         -6          25       114      44378.60  31.459735   \n",
       "3   5    27         18          25       138      52100.71  66.346343   \n",
       "4   6    56         19          25       139     190474.11  75.834755   \n",
       "\n",
       "   interest_rate_time  hpi_time  gdp_time  ...   gdp_dif   gdp_inc  uer_orig  \\\n",
       "0               9.200    146.45  2.715903  ... -0.183234 -0.063203       4.7   \n",
       "1               7.680    225.10  2.151365  ... -0.747772 -0.257929       4.7   \n",
       "2              11.375    217.37  1.692969  ... -1.206168 -0.416044       4.7   \n",
       "3               9.155    222.39  2.361722  ... -0.537415 -0.185371       4.7   \n",
       "4               6.580    181.43  1.717053  ... -1.182084 -0.407736       4.7   \n",
       "\n",
       "    uer_avg  uer_dif   uer_inc     hpi_avg  hpi_dif   hpi_inc  status_time  \n",
       "0  7.241667      3.6  0.765957  176.657917    59.42  0.682753            1  \n",
       "1  4.700000      0.0  0.000000  225.695000    38.19  0.204323            2  \n",
       "2  4.580000     -0.2 -0.042553  222.164000   127.79  1.426546            2  \n",
       "3  4.600000     -0.3 -0.063830  224.593333    35.48  0.189824            2  \n",
       "4  7.319355      1.9  0.404255  175.143226    -9.99 -0.052189            1  \n",
       "\n",
       "[5 rows x 35 columns]"
      ]
     },
     "execution_count": 6,
     "metadata": {},
     "output_type": "execute_result"
    }
   ],
   "source": [
    "data.head()"
   ]
  },
  {
   "cell_type": "code",
   "execution_count": 7,
   "metadata": {},
   "outputs": [],
   "source": [
    "#define independent and dependent variables\n",
    "y=data[\"status_time\"].values\n",
    "x=data.drop(\"status_time\", axis=1).values"
   ]
  },
  {
   "cell_type": "code",
   "execution_count": 8,
   "metadata": {},
   "outputs": [
    {
     "name": "stdout",
     "output_type": "stream",
     "text": [
      "default: 15151\n",
      "pay off: 26578\n"
     ]
    }
   ],
   "source": [
    "#print number of each class\n",
    "print(\"default:\", len(data[data[\"status_time\"]==1]))\n",
    "print(\"pay off:\", len(data[data[\"status_time\"]==2]))"
   ]
  },
  {
   "cell_type": "code",
   "execution_count": 9,
   "metadata": {},
   "outputs": [],
   "source": [
    "#split train and test set\n",
    "train_x, test_x, train_y, test_y=train_test_split(x, y, train_size=0.8)"
   ]
  },
  {
   "cell_type": "code",
   "execution_count": 10,
   "metadata": {},
   "outputs": [
    {
     "name": "stdout",
     "output_type": "stream",
     "text": [
      "default before SMOTE: 12101\n",
      "pay off before SMOTE: 21282\n"
     ]
    }
   ],
   "source": [
    "#display the number of train set\n",
    "print(\"default before SMOTE:\", len(train_y[train_y==1]))\n",
    "print(\"pay off before SMOTE:\", len(train_y[train_y==2]))"
   ]
  },
  {
   "cell_type": "code",
   "execution_count": 11,
   "metadata": {},
   "outputs": [],
   "source": [
    "#use SMOTE to deal with imbalanced data\n",
    "SMOTE=SMOTE(random_state=0)\n",
    "S_train_x, S_train_y=SMOTE.fit_sample(train_x, train_y)"
   ]
  },
  {
   "cell_type": "code",
   "execution_count": 12,
   "metadata": {},
   "outputs": [
    {
     "name": "stdout",
     "output_type": "stream",
     "text": [
      "default after SMOTE: 21282\n",
      "pay off after SMOTE: 21282\n"
     ]
    }
   ],
   "source": [
    "#display the number of training set after SMOTE\n",
    "print(\"default after SMOTE:\", len(S_train_y[S_train_y==1]))\n",
    "print(\"pay off after SMOTE:\", len(S_train_y[S_train_y==2]))"
   ]
  },
  {
   "cell_type": "code",
   "execution_count": 13,
   "metadata": {},
   "outputs": [
    {
     "data": {
      "text/plain": [
       "DecisionTreeClassifier()"
      ]
     },
     "execution_count": 13,
     "metadata": {},
     "output_type": "execute_result"
    }
   ],
   "source": [
    "#define model(with all hyperparameter default values)\n",
    "model=DecisionTreeClassifier()\n",
    "#train model\n",
    "model.fit(S_train_x, S_train_y)"
   ]
  },
  {
   "cell_type": "code",
   "execution_count": 14,
   "metadata": {},
   "outputs": [
    {
     "name": "stdout",
     "output_type": "stream",
     "text": [
      "              precision    recall  f1-score   support\n",
      "\n",
      "           1       0.60      0.63      0.61      3050\n",
      "           2       0.78      0.76      0.77      5296\n",
      "\n",
      "    accuracy                           0.71      8346\n",
      "   macro avg       0.69      0.69      0.69      8346\n",
      "weighted avg       0.71      0.71      0.71      8346\n",
      "\n"
     ]
    }
   ],
   "source": [
    "#show the metrics of model fitted(with all hyperparameter default values)\n",
    "#predict test set\n",
    "y_pred=model.predict(test_x)\n",
    "#print classification report\n",
    "print(classification_report(test_y, y_pred))"
   ]
  },
  {
   "cell_type": "code",
   "execution_count": 15,
   "metadata": {},
   "outputs": [
    {
     "data": {
      "text/plain": [
       "<sklearn.metrics._plot.roc_curve.RocCurveDisplay at 0x16162ab8788>"
      ]
     },
     "execution_count": 15,
     "metadata": {},
     "output_type": "execute_result"
    },
    {
     "data": {
      "image/png": "[encoded data removed]",
      "text/plain": [
       "<Figure size 432x288 with 1 Axes>"
      ]
     },
     "metadata": {
      "needs_background": "light"
     },
     "output_type": "display_data"
    }
   ],
   "source": [
    "#show roc-auc curve\n",
    "plot_roc_curve(model, test_x, test_y)"
   ]
  },
  {
   "cell_type": "code",
   "execution_count": 16,
   "metadata": {},
   "outputs": [
    {
     "data": {
      "text/plain": [
       "GridSearchCV(cv=5, estimator=DecisionTreeClassifier(),\n",
       "             param_grid={'max_depth': array([ 3,  4,  5,  6,  7,  8,  9, 10, 11])},\n",
       "             scoring='accuracy')"
      ]
     },
     "execution_count": 16,
     "metadata": {},
     "output_type": "execute_result"
    }
   ],
   "source": [
    "#use grid search to find the best parameter for max_depth\n",
    "#define a dictionary which identify the paramter that needs to be searched and its possible values\n",
    "param_grid={\"max_depth\":np.arange(3, 12)}\n",
    "#define the grid search model\n",
    "grid_search=GridSearchCV(DecisionTreeClassifier(), param_grid, cv=5, scoring=\"accuracy\")\n",
    "#fit the grid search model with training set\n",
    "grid_search.fit(S_train_x, S_train_y)"
   ]
  },
  {
   "cell_type": "code",
   "execution_count": 17,
   "metadata": {},
   "outputs": [
    {
     "data": {
      "text/plain": [
       "{'max_depth': 9}"
      ]
     },
     "execution_count": 17,
     "metadata": {},
     "output_type": "execute_result"
    }
   ],
   "source": [
    "#extract the best value for max_depth\n",
    "grid_search.best_params_"
   ]
  },
  {
   "cell_type": "code",
   "execution_count": 18,
   "metadata": {},
   "outputs": [],
   "source": [
    "#extract the mean_test_score of model with each possible max_depth\n",
    "test_scores=grid_search.cv_results_[\"mean_test_score\"]"
   ]
  },
  {
   "cell_type": "code",
   "execution_count": 19,
   "metadata": {
    "scrolled": true
   },
   "outputs": [
    {
     "data": {
      "text/plain": [
       "Text(9, 0.7925, '[9,0.797]')"
      ]
     },
     "execution_count": 19,
     "metadata": {},
     "output_type": "execute_result"
    },
    {
     "data": {
      "image/png": "[encoded data removed]",
      "text/plain": [
       "<Figure size 432x288 with 1 Axes>"
      ]
     },
     "metadata": {
      "needs_background": "light"
     },
     "output_type": "display_data"
    }
   ],
   "source": [
    "#plot the score with max_depth\n",
    "plt.plot(np.arange(3, 12), test_scores, label=\"test_scores\")\n",
    "plt.xlabel(\"max_depth\")\n",
    "plt.ylabel(\"accuracy\")\n",
    "#mark the maximum\n",
    "plt.plot([9], max(test_scores), \"ks\")\n",
    "show_max=\"[\"+str(9)+\",\"+str(round(max(test_scores),3))+\"]\"\n",
    "plt.annotate(show_max,xy=(9, max(test_scores)), xytext=(9,0.7925))"
   ]
  },
  {
   "cell_type": "code",
   "execution_count": 20,
   "metadata": {},
   "outputs": [
    {
     "name": "stdout",
     "output_type": "stream",
     "text": [
      "              precision    recall  f1-score   support\n",
      "\n",
      "           1       0.68      0.72      0.70      3050\n",
      "           2       0.83      0.80      0.82      5296\n",
      "\n",
      "    accuracy                           0.77      8346\n",
      "   macro avg       0.76      0.76      0.76      8346\n",
      "weighted avg       0.78      0.77      0.77      8346\n",
      "\n"
     ]
    }
   ],
   "source": [
    "#redefine the model with max_depth=9\n",
    "model_new=DecisionTreeClassifier(max_depth=9)\n",
    "#train the new model\n",
    "model_new.fit(S_train_x, S_train_y)\n",
    "#get the predicted values for test set\n",
    "y_pred=model_new.predict(test_x)\n",
    "#display classification report\n",
    "print(classification_report(test_y, y_pred))"
   ]
  },
  {
   "cell_type": "code",
   "execution_count": 21,
   "metadata": {},
   "outputs": [
    {
     "data": {
      "text/plain": [
       "0.7964249557730811"
      ]
     },
     "execution_count": 21,
     "metadata": {},
     "output_type": "execute_result"
    }
   ],
   "source": [
    "#check the accuracy by cross validation\n",
    "cross_val_score(DecisionTreeClassifier(max_depth=9), S_train_x, S_train_y, cv=5).mean()"
   ]
  },
  {
   "cell_type": "code",
   "execution_count": 22,
   "metadata": {},
   "outputs": [],
   "source": [
    "#now we check whether our model is overfitting or underfitting\n",
    "#extract the variables for learning curve\n",
    "number, train_loss, test_loss=learning_curve(DecisionTreeClassifier(max_depth=9), S_train_x, S_train_y, cv=5, train_sizes=[0.1, 0.33, 0.55, 0.78, 1. ])"
   ]
  },
  {
   "cell_type": "code",
   "execution_count": 23,
   "metadata": {},
   "outputs": [
    {
     "data": {
      "text/plain": [
       "Text(0.5, 1.0, 'Learning curve')"
      ]
     },
     "execution_count": 23,
     "metadata": {},
     "output_type": "execute_result"
    },
    {
     "data": {
      "image/png": "[encoded data removed]",
      "text/plain": [
       "<Figure size 432x288 with 1 Axes>"
      ]
     },
     "metadata": {
      "needs_background": "light"
     },
     "output_type": "display_data"
    }
   ],
   "source": [
    "#display learning curve\n",
    "plt.plot(number, train_loss.mean(axis=1), label=True)\n",
    "plt.plot(number, test_loss.mean(axis=1), label=True)\n",
    "plt.legend([\"training\", \"test\"])\n",
    "plt.xlabel(\"data_volume\")\n",
    "plt.ylabel(\"accuracy\")\n",
    "plt.title(\"Learning curve\")"
   ]
  },
  {
   "cell_type": "code",
   "execution_count": null,
   "metadata": {},
   "outputs": [],
   "source": [
    "#plot the tree\n",
    "plt.figure(figsize=(12,12))\n",
    "tree.plot_tree(model, fontsize=6)\n",
    "plt.savefig('tree_high_dpi', dpi=100)"
   ]
  },
  {
   "cell_type": "code",
   "execution_count": null,
   "metadata": {},
   "outputs": [],
   "source": [
    "#extract the feature importances\n",
    "importances=model_new.feature_importances_"
   ]
  },
  {
   "cell_type": "code",
   "execution_count": null,
   "metadata": {},
   "outputs": [],
   "source": [
    "#generate a list\n",
    "ls=[(name, importance) for name, importance in zip(data.columns[:-1], importances)]"
   ]
  },
  {
   "cell_type": "code",
   "execution_count": null,
   "metadata": {},
   "outputs": [],
   "source": [
    "#sort the list \n",
    "ls.sort(key= lambda ls:ls[1], reverse=True)"
   ]
  },
  {
   "cell_type": "code",
   "execution_count": null,
   "metadata": {},
   "outputs": [],
   "source": [
    "ls"
   ]
  },
  {
   "cell_type": "code",
   "execution_count": null,
   "metadata": {},
   "outputs": [],
   "source": []
  }
 ],
 "metadata": {
  "kernelspec": {
   "display_name": "Python 3",
   "language": "python",
   "name": "python3"
  },
  "language_info": {
   "codemirror_mode": {
    "name": "ipython",
    "version": 3
   },
   "file_extension": ".py",
   "mimetype": "text/x-python",
   "name": "python",
   "nbconvert_exporter": "python",
   "pygments_lexer": "ipython3",
   "version": "3.7.9"
  }
 },
 "nbformat": 4,
 "nbformat_minor": 4
}
