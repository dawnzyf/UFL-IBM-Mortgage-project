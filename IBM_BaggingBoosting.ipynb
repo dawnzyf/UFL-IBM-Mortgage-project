{
 "cells": [
  {
   "cell_type": "code",
   "execution_count": 16,
   "metadata": {},
   "outputs": [],
   "source": [
    "import numpy as np\n",
    "import pandas as pd\n",
    "import matplotlib.pyplot as plt\n",
    "from sklearn.preprocessing import LabelBinarizer, StandardScaler, MinMaxScaler\n",
    "from sklearn.ensemble import BaggingClassifier, AdaBoostClassifier, GradientBoostingClassifier, RandomForestClassifier\n",
    "from sklearn.model_selection import train_test_split, cross_val_score, learning_curve, validation_curve, GridSearchCV\n",
    "from sklearn.metrics import accuracy_score, confusion_matrix, f1_score, precision_recall_curve, roc_auc_score, classification_report, plot_roc_curve, precision_score\n",
    "from imblearn.over_sampling import SMOTE\n",
    "import seaborn as sns"
   ]
  },
  {
   "cell_type": "code",
   "execution_count": 17,
   "metadata": {},
   "outputs": [],
   "source": [
    "#load data\n",
    "data=pd.read_csv(\"mortgage_final_data.csv\")"
   ]
  },
  {
   "cell_type": "code",
   "execution_count": 18,
   "metadata": {},
   "outputs": [
    {
     "data": {
      "text/plain": [
       "Index(['id', 'time', 'orig_time', 'first_time', 'mat_time', 'balance_time',\n",
       "       'LTV_time', 'interest_rate_time', 'hpi_time', 'gdp_time', 'uer_time',\n",
       "       'REtype_CO_orig_time', 'REtype_PU_orig_time', 'REtype_SF_orig_time',\n",
       "       'investor_orig_time', 'balance_orig_time', 'FICO_orig_time',\n",
       "       'LTV_orig_time', 'Interest_Rate_orig_time', 'hpi_orig_time', 'period',\n",
       "       'gdp_avg', 'LTV_dif', 'LTV_inc', 'gdp_orig', 'gdp_dif', 'gdp_inc',\n",
       "       'uer_orig', 'uer_avg', 'uer_dif', 'uer_inc', 'hpi_avg', 'hpi_dif',\n",
       "       'hpi_inc', 'status_time'],\n",
       "      dtype='object')"
      ]
     },
     "execution_count": 18,
     "metadata": {},
     "output_type": "execute_result"
    }
   ],
   "source": [
    "data.columns"
   ]
  },
  {
   "cell_type": "code",
   "execution_count": 19,
   "metadata": {},
   "outputs": [
    {
     "name": "stderr",
     "output_type": "stream",
     "text": [
      "D:\\programs\\Anaconda3\\lib\\site-packages\\seaborn\\distributions.py:2557: FutureWarning: `distplot` is a deprecated function and will be removed in a future version. Please adapt your code to use either `displot` (a figure-level function with similar flexibility) or `histplot` (an axes-level function for histograms).\n",
      "  warnings.warn(msg, FutureWarning)\n"
     ]
    },
    {
     "data": {
      "text/plain": [
       "<AxesSubplot:xlabel='LTV_orig_time', ylabel='Density'>"
      ]
     },
     "execution_count": 19,
     "metadata": {},
     "output_type": "execute_result"
    },
    {
     "data": {
      "image/png": "[encoded data removed]",
      "text/plain": [
       "<Figure size 432x288 with 1 Axes>"
      ]
     },
     "metadata": {
      "needs_background": "light"
     },
     "output_type": "display_data"
    }
   ],
   "source": [
    "sns.distplot(data[\"LTV_orig_time\"])"
   ]
  },
  {
   "cell_type": "code",
   "execution_count": 20,
   "metadata": {
    "scrolled": true
   },
   "outputs": [
    {
     "data": {
      "text/html": [
       "<div>\n",
       "<style scoped>\n",
       "    .dataframe tbody tr th:only-of-type {\n",
       "        vertical-align: middle;\n",
       "    }\n",
       "\n",
       "    .dataframe tbody tr th {\n",
       "        vertical-align: top;\n",
       "    }\n",
       "\n",
       "    .dataframe thead th {\n",
       "        text-align: right;\n",
       "    }\n",
       "</style>\n",
       "<table border=\"1\" class=\"dataframe\">\n",
       "  <thead>\n",
       "    <tr style=\"text-align: right;\">\n",
       "      <th></th>\n",
       "      <th>id</th>\n",
       "      <th>time</th>\n",
       "      <th>orig_time</th>\n",
       "      <th>first_time</th>\n",
       "      <th>mat_time</th>\n",
       "      <th>balance_time</th>\n",
       "      <th>LTV_time</th>\n",
       "      <th>interest_rate_time</th>\n",
       "      <th>hpi_time</th>\n",
       "      <th>gdp_time</th>\n",
       "      <th>...</th>\n",
       "      <th>gdp_dif</th>\n",
       "      <th>gdp_inc</th>\n",
       "      <th>uer_orig</th>\n",
       "      <th>uer_avg</th>\n",
       "      <th>uer_dif</th>\n",
       "      <th>uer_inc</th>\n",
       "      <th>hpi_avg</th>\n",
       "      <th>hpi_dif</th>\n",
       "      <th>hpi_inc</th>\n",
       "      <th>status_time</th>\n",
       "    </tr>\n",
       "  </thead>\n",
       "  <tbody>\n",
       "    <tr>\n",
       "      <th>0</th>\n",
       "      <td>1</td>\n",
       "      <td>48</td>\n",
       "      <td>-7</td>\n",
       "      <td>25</td>\n",
       "      <td>113</td>\n",
       "      <td>29087.21</td>\n",
       "      <td>26.658065</td>\n",
       "      <td>9.200</td>\n",
       "      <td>146.45</td>\n",
       "      <td>2.715903</td>\n",
       "      <td>...</td>\n",
       "      <td>-0.183234</td>\n",
       "      <td>-0.063203</td>\n",
       "      <td>4.7</td>\n",
       "      <td>7.241667</td>\n",
       "      <td>3.6</td>\n",
       "      <td>0.765957</td>\n",
       "      <td>176.657917</td>\n",
       "      <td>59.42</td>\n",
       "      <td>0.682753</td>\n",
       "      <td>1</td>\n",
       "    </tr>\n",
       "    <tr>\n",
       "      <th>1</th>\n",
       "      <td>2</td>\n",
       "      <td>26</td>\n",
       "      <td>18</td>\n",
       "      <td>25</td>\n",
       "      <td>138</td>\n",
       "      <td>105654.77</td>\n",
       "      <td>65.469851</td>\n",
       "      <td>7.680</td>\n",
       "      <td>225.10</td>\n",
       "      <td>2.151365</td>\n",
       "      <td>...</td>\n",
       "      <td>-0.747772</td>\n",
       "      <td>-0.257929</td>\n",
       "      <td>4.7</td>\n",
       "      <td>4.700000</td>\n",
       "      <td>0.0</td>\n",
       "      <td>0.000000</td>\n",
       "      <td>225.695000</td>\n",
       "      <td>38.19</td>\n",
       "      <td>0.204323</td>\n",
       "      <td>2</td>\n",
       "    </tr>\n",
       "    <tr>\n",
       "      <th>2</th>\n",
       "      <td>3</td>\n",
       "      <td>29</td>\n",
       "      <td>-6</td>\n",
       "      <td>25</td>\n",
       "      <td>114</td>\n",
       "      <td>44378.60</td>\n",
       "      <td>31.459735</td>\n",
       "      <td>11.375</td>\n",
       "      <td>217.37</td>\n",
       "      <td>1.692969</td>\n",
       "      <td>...</td>\n",
       "      <td>-1.206168</td>\n",
       "      <td>-0.416044</td>\n",
       "      <td>4.7</td>\n",
       "      <td>4.580000</td>\n",
       "      <td>-0.2</td>\n",
       "      <td>-0.042553</td>\n",
       "      <td>222.164000</td>\n",
       "      <td>127.79</td>\n",
       "      <td>1.426546</td>\n",
       "      <td>2</td>\n",
       "    </tr>\n",
       "    <tr>\n",
       "      <th>3</th>\n",
       "      <td>5</td>\n",
       "      <td>27</td>\n",
       "      <td>18</td>\n",
       "      <td>25</td>\n",
       "      <td>138</td>\n",
       "      <td>52100.71</td>\n",
       "      <td>66.346343</td>\n",
       "      <td>9.155</td>\n",
       "      <td>222.39</td>\n",
       "      <td>2.361722</td>\n",
       "      <td>...</td>\n",
       "      <td>-0.537415</td>\n",
       "      <td>-0.185371</td>\n",
       "      <td>4.7</td>\n",
       "      <td>4.600000</td>\n",
       "      <td>-0.3</td>\n",
       "      <td>-0.063830</td>\n",
       "      <td>224.593333</td>\n",
       "      <td>35.48</td>\n",
       "      <td>0.189824</td>\n",
       "      <td>2</td>\n",
       "    </tr>\n",
       "    <tr>\n",
       "      <th>4</th>\n",
       "      <td>6</td>\n",
       "      <td>56</td>\n",
       "      <td>19</td>\n",
       "      <td>25</td>\n",
       "      <td>139</td>\n",
       "      <td>190474.11</td>\n",
       "      <td>75.834755</td>\n",
       "      <td>6.580</td>\n",
       "      <td>181.43</td>\n",
       "      <td>1.717053</td>\n",
       "      <td>...</td>\n",
       "      <td>-1.182084</td>\n",
       "      <td>-0.407736</td>\n",
       "      <td>4.7</td>\n",
       "      <td>7.319355</td>\n",
       "      <td>1.9</td>\n",
       "      <td>0.404255</td>\n",
       "      <td>175.143226</td>\n",
       "      <td>-9.99</td>\n",
       "      <td>-0.052189</td>\n",
       "      <td>1</td>\n",
       "    </tr>\n",
       "  </tbody>\n",
       "</table>\n",
       "<p>5 rows × 35 columns</p>\n",
       "</div>"
      ],
      "text/plain": [
       "   id  time  orig_time  first_time  mat_time  balance_time   LTV_time  \\\n",
       "0   1    48         -7          25       113      29087.21  26.658065   \n",
       "1   2    26         18          25       138     105654.77  65.469851   \n",
       "2   3    29         -6          25       114      44378.60  31.459735   \n",
       "3   5    27         18          25       138      52100.71  66.346343   \n",
       "4   6    56         19          25       139     190474.11  75.834755   \n",
       "\n",
       "   interest_rate_time  hpi_time  gdp_time  ...   gdp_dif   gdp_inc  uer_orig  \\\n",
       "0               9.200    146.45  2.715903  ... -0.183234 -0.063203       4.7   \n",
       "1               7.680    225.10  2.151365  ... -0.747772 -0.257929       4.7   \n",
       "2              11.375    217.37  1.692969  ... -1.206168 -0.416044       4.7   \n",
       "3               9.155    222.39  2.361722  ... -0.537415 -0.185371       4.7   \n",
       "4               6.580    181.43  1.717053  ... -1.182084 -0.407736       4.7   \n",
       "\n",
       "    uer_avg  uer_dif   uer_inc     hpi_avg  hpi_dif   hpi_inc  status_time  \n",
       "0  7.241667      3.6  0.765957  176.657917    59.42  0.682753            1  \n",
       "1  4.700000      0.0  0.000000  225.695000    38.19  0.204323            2  \n",
       "2  4.580000     -0.2 -0.042553  222.164000   127.79  1.426546            2  \n",
       "3  4.600000     -0.3 -0.063830  224.593333    35.48  0.189824            2  \n",
       "4  7.319355      1.9  0.404255  175.143226    -9.99 -0.052189            1  \n",
       "\n",
       "[5 rows x 35 columns]"
      ]
     },
     "execution_count": 20,
     "metadata": {},
     "output_type": "execute_result"
    }
   ],
   "source": [
    "data.head()"
   ]
  },
  {
   "cell_type": "code",
   "execution_count": 21,
   "metadata": {},
   "outputs": [],
   "source": [
    "#define independent and dependent variables\n",
    "y=data[\"status_time\"].values\n",
    "x=data.drop([\"status_time\",\"id\"], axis=1).values"
   ]
  },
  {
   "cell_type": "code",
   "execution_count": 22,
   "metadata": {},
   "outputs": [
    {
     "name": "stdout",
     "output_type": "stream",
     "text": [
      "default: 15151\n",
      "pay off: 26578\n"
     ]
    }
   ],
   "source": [
    "#print number of each class\n",
    "print(\"default:\", len(data[data[\"status_time\"]==1]))\n",
    "print(\"pay off:\", len(data[data[\"status_time\"]==2]))"
   ]
  },
  {
   "cell_type": "code",
   "execution_count": 23,
   "metadata": {},
   "outputs": [],
   "source": [
    "#split train and test set\n",
    "train_x, test_x, train_y, test_y=train_test_split(x, y, train_size=0.8)"
   ]
  },
  {
   "cell_type": "code",
   "execution_count": 24,
   "metadata": {},
   "outputs": [
    {
     "name": "stdout",
     "output_type": "stream",
     "text": [
      "default before SMOTE: 12086\n",
      "pay off before SMOTE: 21297\n"
     ]
    }
   ],
   "source": [
    "#display the number of train set\n",
    "print(\"default before SMOTE:\", len(train_y[train_y==1]))\n",
    "print(\"pay off before SMOTE:\", len(train_y[train_y==2]))"
   ]
  },
  {
   "cell_type": "code",
   "execution_count": 25,
   "metadata": {},
   "outputs": [],
   "source": [
    "#use SMOTE to deal with imbalanced data\n",
    "SMOTE=SMOTE(random_state=0)\n",
    "S_train_x, S_train_y=SMOTE.fit_sample(train_x, train_y)"
   ]
  },
  {
   "cell_type": "code",
   "execution_count": 26,
   "metadata": {},
   "outputs": [
    {
     "name": "stdout",
     "output_type": "stream",
     "text": [
      "default after SMOTE: 21297\n",
      "pay off after SMOTE: 21297\n"
     ]
    }
   ],
   "source": [
    "#display the number of training set after SMOTE\n",
    "print(\"default after SMOTE:\", len(S_train_y[S_train_y==1]))\n",
    "print(\"pay off after SMOTE:\", len(S_train_y[S_train_y==2]))"
   ]
  },
  {
   "cell_type": "code",
   "execution_count": 27,
   "metadata": {},
   "outputs": [
    {
     "data": {
      "text/plain": [
       "AdaBoostClassifier()"
      ]
     },
     "execution_count": 27,
     "metadata": {},
     "output_type": "execute_result"
    }
   ],
   "source": [
    "#define model(with all hyperparameter default values)\n",
    "model=AdaBoostClassifier()\n",
    "#train model\n",
    "model.fit(S_train_x, S_train_y)"
   ]
  },
  {
   "cell_type": "code",
   "execution_count": 28,
   "metadata": {},
   "outputs": [
    {
     "name": "stdout",
     "output_type": "stream",
     "text": [
      "              precision    recall  f1-score   support\n",
      "\n",
      "           1       0.71      0.71      0.71      3065\n",
      "           2       0.83      0.83      0.83      5281\n",
      "\n",
      "    accuracy                           0.79      8346\n",
      "   macro avg       0.77      0.77      0.77      8346\n",
      "weighted avg       0.79      0.79      0.79      8346\n",
      "\n"
     ]
    }
   ],
   "source": [
    "#show the metrics of model fitted(with all hyperparameter default values)\n",
    "#predict test set\n",
    "y_pred=model.predict(test_x)\n",
    "#print classification report\n",
    "print(classification_report(test_y, y_pred))"
   ]
  },
  {
   "cell_type": "code",
   "execution_count": 29,
   "metadata": {},
   "outputs": [
    {
     "data": {
      "text/plain": [
       "[['AdaBoostClassifier()', 0.8057252160764025],\n",
       " ['GradientBoostingClassifier()', 0.8200465288686221],\n",
       " ['BaggingClassifier()', 0.809974430868326]]"
      ]
     },
     "execution_count": 29,
     "metadata": {},
     "output_type": "execute_result"
    }
   ],
   "source": [
    "cross_val_score_list=[]\n",
    "for i in [AdaBoostClassifier(), GradientBoostingClassifier(), BaggingClassifier()]:\n",
    "    cross_val_score_list.append([str(i), cross_val_score(i, S_train_x, S_train_y, cv=5).mean()])\n",
    "cross_val_score_list"
   ]
  },
  {
   "cell_type": "code",
   "execution_count": 30,
   "metadata": {},
   "outputs": [
    {
     "data": {
      "text/plain": [
       "0.8291793813869257"
      ]
     },
     "execution_count": 30,
     "metadata": {},
     "output_type": "execute_result"
    }
   ],
   "source": [
    "cross_val_score(RandomForestClassifier(), S_train_x, S_train_y, cv=5).mean()"
   ]
  },
  {
   "cell_type": "code",
   "execution_count": 31,
   "metadata": {},
   "outputs": [
    {
     "data": {
      "text/plain": [
       "[0.8171158631712053,\n",
       " 0.8358968618120569,\n",
       " 0.8281010785411931,\n",
       " 0.7982970669062184]"
      ]
     },
     "execution_count": 31,
     "metadata": {},
     "output_type": "execute_result"
    }
   ],
   "source": [
    "precision_list=[]\n",
    "for i in [AdaBoostClassifier(), RandomForestClassifier(), GradientBoostingClassifier(), BaggingClassifier()]:\n",
    "    precision_list.append(cross_val_score(i, S_train_x, S_train_y, cv=5, scoring=\"precision\").mean())\n",
    "precision_list"
   ]
  },
  {
   "cell_type": "code",
   "execution_count": 32,
   "metadata": {},
   "outputs": [
    {
     "name": "stderr",
     "output_type": "stream",
     "text": [
      "D:\\programs\\Anaconda3\\lib\\site-packages\\seaborn\\_decorators.py:43: FutureWarning: Pass the following variables as keyword args: x, y. From version 0.12, the only valid positional argument will be `data`, and passing other arguments without an explicit keyword will result in an error or misinterpretation.\n",
      "  FutureWarning\n"
     ]
    },
    {
     "data": {
      "text/plain": [
       "(0.7, 0.86)"
      ]
     },
     "execution_count": 32,
     "metadata": {},
     "output_type": "execute_result"
    },
    {
     "data": {
      "image/png": "[encoded data removed]",
      "text/plain": [
       "<Figure size 432x288 with 1 Axes>"
      ]
     },
     "metadata": {
      "needs_background": "light"
     },
     "output_type": "display_data"
    }
   ],
   "source": [
    "sns.barplot([\"AdaBoost\", \"RandomForest\", \"GradientBoost\",\"Bagging\"], [0.816789460543581, 0.8353987518583686, 0.8274741206383401, 0.7987020440083401], palette=\"Reds_d\")\n",
    "plt.ylabel(\"precision\")\n",
    "plt.title(\"precision of each ensemble learning\")\n",
    "plt.ylim([0.7,0.86])"
   ]
  },
  {
   "cell_type": "code",
   "execution_count": 33,
   "metadata": {},
   "outputs": [
    {
     "data": {
      "text/plain": [
       "[0.785834989588466, 0.8211449380323581, 0.8066829370997842, 0.8272024996500094]"
      ]
     },
     "execution_count": 33,
     "metadata": {},
     "output_type": "execute_result"
    }
   ],
   "source": [
    "recall_list=[]\n",
    "for i in [AdaBoostClassifier(), RandomForestClassifier(), GradientBoostingClassifier(), BaggingClassifier()]:\n",
    "    recall_list.append(cross_val_score(i, S_train_x, S_train_y, cv=5, scoring=\"recall\").mean())\n",
    "recall_list"
   ]
  },
  {
   "cell_type": "code",
   "execution_count": 34,
   "metadata": {},
   "outputs": [
    {
     "name": "stderr",
     "output_type": "stream",
     "text": [
      "D:\\programs\\Anaconda3\\lib\\site-packages\\seaborn\\_decorators.py:43: FutureWarning: Pass the following variables as keyword args: x, y. From version 0.12, the only valid positional argument will be `data`, and passing other arguments without an explicit keyword will result in an error or misinterpretation.\n",
      "  FutureWarning\n"
     ]
    },
    {
     "data": {
      "text/plain": [
       "(0.7, 0.86)"
      ]
     },
     "execution_count": 34,
     "metadata": {},
     "output_type": "execute_result"
    },
    {
     "data": {
      "image/png": "[encoded data removed]",
      "text/plain": [
       "<Figure size 432x288 with 1 Axes>"
      ]
     },
     "metadata": {
      "needs_background": "light"
     },
     "output_type": "display_data"
    }
   ],
   "source": [
    "sns.barplot([\"AdaBoost\", \"RandomForest\", \"GradientBoost\",\"Bagging\"], [0.7817756590782815,\n",
    " 0.8251868827757889,\n",
    " 0.8088019370713436,\n",
    " 0.8291881563013129], palette=\"Greens_d\")\n",
    "plt.ylabel(\"recall\")\n",
    "plt.title(\"recall of each ensemble learning\")\n",
    "plt.ylim([0.7,0.86])"
   ]
  },
  {
   "cell_type": "code",
   "execution_count": 35,
   "metadata": {},
   "outputs": [
    {
     "data": {
      "text/plain": [
       "[0.7068181818181818, 0.729267505646983, 0.7168847749760613, 0.6868837765162832]"
      ]
     },
     "execution_count": 35,
     "metadata": {},
     "output_type": "execute_result"
    }
   ],
   "source": [
    "precision_list=[]\n",
    "for i in [AdaBoostClassifier(), RandomForestClassifier(), GradientBoostingClassifier(), BaggingClassifier()]:\n",
    "    model=i\n",
    "    model.fit(S_train_x, S_train_y)\n",
    "    pred_y=model.predict(test_x)\n",
    "    precision_list.append(precision_score(test_y, pred_y))\n",
    "precision_list"
   ]
  },
  {
   "cell_type": "code",
   "execution_count": 36,
   "metadata": {},
   "outputs": [
    {
     "data": {
      "text/plain": [
       "[['AdaBoostClassifier()', 6.836455345153809],\n",
       " ['GradientBoostingClassifier()', 31.32746648788452],\n",
       " ['RandomForestClassifier()', 16.87610411643982],\n",
       " ['BaggingClassifier()', 10.439778566360474]]"
      ]
     },
     "execution_count": 36,
     "metadata": {},
     "output_type": "execute_result"
    }
   ],
   "source": [
    "time_list=[]\n",
    "import time\n",
    "for i in [AdaBoostClassifier(),  GradientBoostingClassifier(), RandomForestClassifier(),BaggingClassifier()]:\n",
    "    start=time.time()\n",
    "    model=i\n",
    "    model.fit(S_train_x, S_train_y)\n",
    "    end=time.time()\n",
    "    real_time=end-start\n",
    "    time_list.append([str(i), real_time])\n",
    "time_list"
   ]
  },
  {
   "cell_type": "code",
   "execution_count": 37,
   "metadata": {},
   "outputs": [
    {
     "name": "stderr",
     "output_type": "stream",
     "text": [
      "D:\\programs\\Anaconda3\\lib\\site-packages\\seaborn\\_decorators.py:43: FutureWarning: Pass the following variables as keyword args: x, y. From version 0.12, the only valid positional argument will be `data`, and passing other arguments without an explicit keyword will result in an error or misinterpretation.\n",
      "  FutureWarning\n"
     ]
    },
    {
     "data": {
      "text/plain": [
       "Text(0.5, 1.0, 'Time-consumed of each ensemble learning')"
      ]
     },
     "execution_count": 37,
     "metadata": {},
     "output_type": "execute_result"
    },
    {
     "data": {
      "image/png": "[encoded data removed]",
      "text/plain": [
       "<Figure size 432x288 with 1 Axes>"
      ]
     },
     "metadata": {
      "needs_background": "light"
     },
     "output_type": "display_data"
    }
   ],
   "source": [
    "sns.barplot([\"AdaBoost\", \"GradientBoost\",\"RandomForest\", \"Bagging\"], [5.187010288238525, 23.43094253540039, 11.506381034851074, 7.101903438568115], palette=\"Blues_d\")\n",
    "plt.ylabel(\"time_consumed(seconds)\")\n",
    "plt.title(\"Time-consumed of each ensemble learning\")"
   ]
  },
  {
   "cell_type": "code",
   "execution_count": 38,
   "metadata": {},
   "outputs": [],
   "source": [
    "scaler=StandardScaler()\n",
    "S_x=scaler.fit_transform(S_train_x)\n",
    "model=GradientBoostingClassifier()"
   ]
  },
  {
   "cell_type": "code",
   "execution_count": 39,
   "metadata": {},
   "outputs": [
    {
     "data": {
      "text/plain": [
       "32.06303858757019"
      ]
     },
     "execution_count": 39,
     "metadata": {},
     "output_type": "execute_result"
    }
   ],
   "source": [
    "#data standarization\n",
    "start=time.time()\n",
    "model.fit(S_x, S_train_y)\n",
    "end=time.time()\n",
    "real_time=end-start\n",
    "real_time"
   ]
  },
  {
   "cell_type": "code",
   "execution_count": 40,
   "metadata": {},
   "outputs": [
    {
     "name": "stderr",
     "output_type": "stream",
     "text": [
      "D:\\programs\\Anaconda3\\lib\\site-packages\\seaborn\\_decorators.py:43: FutureWarning: Pass the following variables as keyword args: x, y. From version 0.12, the only valid positional argument will be `data`, and passing other arguments without an explicit keyword will result in an error or misinterpretation.\n",
      "  FutureWarning\n"
     ]
    },
    {
     "data": {
      "text/plain": [
       "Text(0.5, 1.0, 'time consumed for GDBT before/after data scaling')"
      ]
     },
     "execution_count": 40,
     "metadata": {},
     "output_type": "execute_result"
    },
    {
     "data": {
      "image/png": "[encoded data removed]",
      "text/plain": [
       "<Figure size 432x288 with 1 Axes>"
      ]
     },
     "metadata": {
      "needs_background": "light"
     },
     "output_type": "display_data"
    }
   ],
   "source": [
    "sns.barplot([\"before\", \"after\"], [22.9, 23.09], palette=\"Purples\")\n",
    "plt.ylabel(\"Time consumed\")\n",
    "plt.title(\"time consumed for GDBT before/after data scaling\")"
   ]
  },
  {
   "cell_type": "code",
   "execution_count": 41,
   "metadata": {},
   "outputs": [
    {
     "name": "stderr",
     "output_type": "stream",
     "text": [
      "D:\\programs\\Anaconda3\\lib\\site-packages\\seaborn\\_decorators.py:43: FutureWarning: Pass the following variables as keyword args: x, y. From version 0.12, the only valid positional argument will be `data`, and passing other arguments without an explicit keyword will result in an error or misinterpretation.\n",
      "  FutureWarning\n"
     ]
    },
    {
     "data": {
      "text/plain": [
       "Text(0.5, 1.0, 'The accuracy of each ensemble learning')"
      ]
     },
     "execution_count": 41,
     "metadata": {},
     "output_type": "execute_result"
    },
    {
     "data": {
      "image/png": "[encoded data removed]",
      "text/plain": [
       "<Figure size 432x288 with 1 Axes>"
      ]
     },
     "metadata": {
      "needs_background": "light"
     },
     "output_type": "display_data"
    }
   ],
   "source": [
    "sns.barplot([\"AdaBoost\", \"RandomForest\", \"GradientBoost\", \"Bagging\"], [0.80418, 0.832, 0.82087, 0.81166], palette=\"Paired\")\n",
    "plt.ylim([0.78,0.84])\n",
    "plt.ylabel(\"score\")\n",
    "plt.title(\"The accuracy of each ensemble learning\")"
   ]
  },
  {
   "cell_type": "code",
   "execution_count": 42,
   "metadata": {},
   "outputs": [
    {
     "data": {
      "text/plain": [
       "[<matplotlib.lines.Line2D at 0x20c1a2c62c8>]"
      ]
     },
     "execution_count": 42,
     "metadata": {},
     "output_type": "execute_result"
    },
    {
     "data": {
      "image/png": "[encoded data removed]",
      "text/plain": [
       "<Figure size 576x576 with 1 Axes>"
      ]
     },
     "metadata": {
      "needs_background": "light"
     },
     "output_type": "display_data"
    }
   ],
   "source": [
    "fig, ax=plt.subplots(figsize=(8,8))\n",
    "for i in [AdaBoostClassifier(), RandomForestClassifier(), GradientBoostingClassifier(), BaggingClassifier()]:\n",
    "    model=i\n",
    "    model.fit(S_train_x, S_train_y)\n",
    "    plot_roc_curve(model, test_x, test_y, ax=ax, label=str(i))\n",
    "plt.plot([0,1],[0,1])"
   ]
  },
  {
   "cell_type": "code",
   "execution_count": 43,
   "metadata": {},
   "outputs": [],
   "source": [
    "#now we check whether our model is overfitting or underfitting\n",
    "#extract the variables for learning curve\n",
    "number, train_loss, test_loss=learning_curve(RandomForestClassifier(), S_train_x, S_train_y, cv=5, train_sizes=[0.1, 0.33, 0.55, 0.78, 1. ])"
   ]
  },
  {
   "cell_type": "code",
   "execution_count": 44,
   "metadata": {},
   "outputs": [
    {
     "data": {
      "text/plain": [
       "Text(0.5, 1.0, 'RF Learning curve')"
      ]
     },
     "execution_count": 44,
     "metadata": {},
     "output_type": "execute_result"
    },
    {
     "data": {
      "image/png": "[encoded data removed]",
      "text/plain": [
       "<Figure size 432x288 with 1 Axes>"
      ]
     },
     "metadata": {
      "needs_background": "light"
     },
     "output_type": "display_data"
    }
   ],
   "source": [
    "#display learning curve\n",
    "plt.plot(number, train_loss.mean(axis=1), label=True)\n",
    "plt.plot(number, test_loss.mean(axis=1), label=True)\n",
    "plt.legend([\"training\", \"test\"])\n",
    "plt.xlabel(\"data_volume\")\n",
    "plt.ylabel(\"accuracy\")\n",
    "plt.title(\"RF Learning curve\")"
   ]
  },
  {
   "cell_type": "code",
   "execution_count": 46,
   "metadata": {},
   "outputs": [],
   "source": [
    "from xgboost import XGBClassifier\n",
    "from lightgbm import LGBMClassifier"
   ]
  },
  {
   "cell_type": "code",
   "execution_count": 47,
   "metadata": {},
   "outputs": [
    {
     "name": "stderr",
     "output_type": "stream",
     "text": [
      "D:\\programs\\Anaconda3\\lib\\site-packages\\xgboost\\sklearn.py:888: UserWarning: The use of label encoder in XGBClassifier is deprecated and will be removed in a future release. To remove this warning, do the following: 1) Pass option use_label_encoder=False when constructing XGBClassifier object; and 2) Encode your labels (y) as integers starting with 0, i.e. 0, 1, 2, ..., [num_class - 1].\n",
      "  warnings.warn(label_encoder_deprecation_msg, UserWarning)\n"
     ]
    },
    {
     "name": "stdout",
     "output_type": "stream",
     "text": [
      "[18:38:40] WARNING: C:/Users/Administrator/workspace/xgboost-win64_release_1.3.0/src/learner.cc:1061: Starting in XGBoost 1.3.0, the default evaluation metric used with the objective 'binary:logistic' was changed from 'error' to 'logloss'. Explicitly set eval_metric if you'd like to restore the old behavior.\n",
      "[18:38:43] WARNING: C:/Users/Administrator/workspace/xgboost-win64_release_1.3.0/src/learner.cc:1061: Starting in XGBoost 1.3.0, the default evaluation metric used with the objective 'binary:logistic' was changed from 'error' to 'logloss'. Explicitly set eval_metric if you'd like to restore the old behavior.\n",
      "[18:38:48] WARNING: C:/Users/Administrator/workspace/xgboost-win64_release_1.3.0/src/learner.cc:1061: Starting in XGBoost 1.3.0, the default evaluation metric used with the objective 'binary:logistic' was changed from 'error' to 'logloss'. Explicitly set eval_metric if you'd like to restore the old behavior.\n",
      "[18:38:52] WARNING: C:/Users/Administrator/workspace/xgboost-win64_release_1.3.0/src/learner.cc:1061: Starting in XGBoost 1.3.0, the default evaluation metric used with the objective 'binary:logistic' was changed from 'error' to 'logloss'. Explicitly set eval_metric if you'd like to restore the old behavior.\n",
      "[18:38:57] WARNING: C:/Users/Administrator/workspace/xgboost-win64_release_1.3.0/src/learner.cc:1061: Starting in XGBoost 1.3.0, the default evaluation metric used with the objective 'binary:logistic' was changed from 'error' to 'logloss'. Explicitly set eval_metric if you'd like to restore the old behavior.\n"
     ]
    },
    {
     "data": {
      "text/plain": [
       "[0.8307759562130652, 0.8293674421560787]"
      ]
     },
     "execution_count": 47,
     "metadata": {},
     "output_type": "execute_result"
    }
   ],
   "source": [
    "model=[LGBMClassifier(), XGBClassifier()]\n",
    "ac_list=[]\n",
    "for i in model:\n",
    "    ac_list.append(cross_val_score(i, S_train_x, S_train_y, cv=5).mean())\n",
    "ac_list"
   ]
  },
  {
   "cell_type": "code",
   "execution_count": 48,
   "metadata": {},
   "outputs": [
    {
     "name": "stderr",
     "output_type": "stream",
     "text": [
      "D:\\programs\\Anaconda3\\lib\\site-packages\\seaborn\\_decorators.py:43: FutureWarning: Pass the following variables as keyword args: x, y. From version 0.12, the only valid positional argument will be `data`, and passing other arguments without an explicit keyword will result in an error or misinterpretation.\n",
      "  FutureWarning\n"
     ]
    },
    {
     "data": {
      "text/plain": [
       "Text(0.5, 1.0, 'The accuracy of each ensemble learning')"
      ]
     },
     "execution_count": 48,
     "metadata": {},
     "output_type": "execute_result"
    },
    {
     "data": {
      "image/png": "[encoded data removed]",
      "text/plain": [
       "<Figure size 432x288 with 1 Axes>"
      ]
     },
     "metadata": {
      "needs_background": "light"
     },
     "output_type": "display_data"
    }
   ],
   "source": [
    "sns.barplot([\"LGM\", \"XGB\"], [0.8305802914532654, 0.8319664619941352], palette=\"Paired\")\n",
    "plt.ylim([0,0.9])\n",
    "plt.ylabel(\"score\")\n",
    "plt.title(\"The accuracy of each ensemble learning\")"
   ]
  },
  {
   "cell_type": "code",
   "execution_count": 49,
   "metadata": {},
   "outputs": [
    {
     "name": "stderr",
     "output_type": "stream",
     "text": [
      "D:\\programs\\Anaconda3\\lib\\site-packages\\xgboost\\sklearn.py:888: UserWarning: The use of label encoder in XGBClassifier is deprecated and will be removed in a future release. To remove this warning, do the following: 1) Pass option use_label_encoder=False when constructing XGBClassifier object; and 2) Encode your labels (y) as integers starting with 0, i.e. 0, 1, 2, ..., [num_class - 1].\n",
      "  warnings.warn(label_encoder_deprecation_msg, UserWarning)\n"
     ]
    },
    {
     "name": "stdout",
     "output_type": "stream",
     "text": [
      "[18:39:01] WARNING: C:/Users/Administrator/workspace/xgboost-win64_release_1.3.0/src/learner.cc:1061: Starting in XGBoost 1.3.0, the default evaluation metric used with the objective 'binary:logistic' was changed from 'error' to 'logloss'. Explicitly set eval_metric if you'd like to restore the old behavior.\n"
     ]
    },
    {
     "data": {
      "text/plain": [
       "[0.9060449600219727, 5.203766584396362]"
      ]
     },
     "execution_count": 49,
     "metadata": {},
     "output_type": "execute_result"
    }
   ],
   "source": [
    "time_list=[]\n",
    "import time\n",
    "for i in [LGBMClassifier(), XGBClassifier()]:\n",
    "    model=i\n",
    "    start=time.time()\n",
    "    model.fit(S_train_x, S_train_y)\n",
    "    end=time.time()\n",
    "    real_time=end-start\n",
    "    time_list.append(real_time)\n",
    "time_list"
   ]
  },
  {
   "cell_type": "code",
   "execution_count": 50,
   "metadata": {},
   "outputs": [
    {
     "name": "stderr",
     "output_type": "stream",
     "text": [
      "D:\\programs\\Anaconda3\\lib\\site-packages\\seaborn\\_decorators.py:43: FutureWarning: Pass the following variables as keyword args: x, y. From version 0.12, the only valid positional argument will be `data`, and passing other arguments without an explicit keyword will result in an error or misinterpretation.\n",
      "  FutureWarning\n"
     ]
    },
    {
     "data": {
      "text/plain": [
       "Text(0.5, 1.0, 'The runtime of each ensemble learning')"
      ]
     },
     "execution_count": 50,
     "metadata": {},
     "output_type": "execute_result"
    },
    {
     "data": {
      "image/png": "[encoded data removed]",
      "text/plain": [
       "<Figure size 432x288 with 1 Axes>"
      ]
     },
     "metadata": {
      "needs_background": "light"
     },
     "output_type": "display_data"
    }
   ],
   "source": [
    "sns.barplot([\"LGM\", \"XGB\"], [0.7345755100250244, 5.941572904586792] , palette=\"Reds\")\n",
    "plt.ylabel(\"time\")\n",
    "plt.title(\"The runtime of each ensemble learning\")"
   ]
  },
  {
   "cell_type": "code",
   "execution_count": 51,
   "metadata": {},
   "outputs": [
    {
     "name": "stderr",
     "output_type": "stream",
     "text": [
      "D:\\programs\\Anaconda3\\lib\\site-packages\\xgboost\\sklearn.py:888: UserWarning: The use of label encoder in XGBClassifier is deprecated and will be removed in a future release. To remove this warning, do the following: 1) Pass option use_label_encoder=False when constructing XGBClassifier object; and 2) Encode your labels (y) as integers starting with 0, i.e. 0, 1, 2, ..., [num_class - 1].\n",
      "  warnings.warn(label_encoder_deprecation_msg, UserWarning)\n"
     ]
    },
    {
     "name": "stdout",
     "output_type": "stream",
     "text": [
      "[18:39:11] WARNING: C:/Users/Administrator/workspace/xgboost-win64_release_1.3.0/src/learner.cc:1061: Starting in XGBoost 1.3.0, the default evaluation metric used with the objective 'binary:logistic' was changed from 'error' to 'logloss'. Explicitly set eval_metric if you'd like to restore the old behavior.\n",
      "[18:39:16] WARNING: C:/Users/Administrator/workspace/xgboost-win64_release_1.3.0/src/learner.cc:1061: Starting in XGBoost 1.3.0, the default evaluation metric used with the objective 'binary:logistic' was changed from 'error' to 'logloss'. Explicitly set eval_metric if you'd like to restore the old behavior.\n",
      "[18:39:21] WARNING: C:/Users/Administrator/workspace/xgboost-win64_release_1.3.0/src/learner.cc:1061: Starting in XGBoost 1.3.0, the default evaluation metric used with the objective 'binary:logistic' was changed from 'error' to 'logloss'. Explicitly set eval_metric if you'd like to restore the old behavior.\n",
      "[18:39:26] WARNING: C:/Users/Administrator/workspace/xgboost-win64_release_1.3.0/src/learner.cc:1061: Starting in XGBoost 1.3.0, the default evaluation metric used with the objective 'binary:logistic' was changed from 'error' to 'logloss'. Explicitly set eval_metric if you'd like to restore the old behavior.\n",
      "[18:39:31] WARNING: C:/Users/Administrator/workspace/xgboost-win64_release_1.3.0/src/learner.cc:1061: Starting in XGBoost 1.3.0, the default evaluation metric used with the objective 'binary:logistic' was changed from 'error' to 'logloss'. Explicitly set eval_metric if you'd like to restore the old behavior.\n"
     ]
    },
    {
     "data": {
      "text/plain": [
       "[0.8087480585162379, 0.8067286949370953]"
      ]
     },
     "execution_count": 51,
     "metadata": {},
     "output_type": "execute_result"
    }
   ],
   "source": [
    "recall_list=[]\n",
    "for i in [LGBMClassifier(), XGBClassifier()]:\n",
    "    recall_list.append(cross_val_score(i, S_train_x, S_train_y, cv=5, scoring=\"recall\").mean())\n",
    "recall_list"
   ]
  },
  {
   "cell_type": "code",
   "execution_count": 52,
   "metadata": {},
   "outputs": [
    {
     "name": "stderr",
     "output_type": "stream",
     "text": [
      "D:\\programs\\Anaconda3\\lib\\site-packages\\xgboost\\sklearn.py:888: UserWarning: The use of label encoder in XGBClassifier is deprecated and will be removed in a future release. To remove this warning, do the following: 1) Pass option use_label_encoder=False when constructing XGBClassifier object; and 2) Encode your labels (y) as integers starting with 0, i.e. 0, 1, 2, ..., [num_class - 1].\n",
      "  warnings.warn(label_encoder_deprecation_msg, UserWarning)\n"
     ]
    },
    {
     "name": "stdout",
     "output_type": "stream",
     "text": [
      "[18:39:39] WARNING: C:/Users/Administrator/workspace/xgboost-win64_release_1.3.0/src/learner.cc:1061: Starting in XGBoost 1.3.0, the default evaluation metric used with the objective 'binary:logistic' was changed from 'error' to 'logloss'. Explicitly set eval_metric if you'd like to restore the old behavior.\n",
      "[18:39:43] WARNING: C:/Users/Administrator/workspace/xgboost-win64_release_1.3.0/src/learner.cc:1061: Starting in XGBoost 1.3.0, the default evaluation metric used with the objective 'binary:logistic' was changed from 'error' to 'logloss'. Explicitly set eval_metric if you'd like to restore the old behavior.\n",
      "[18:39:48] WARNING: C:/Users/Administrator/workspace/xgboost-win64_release_1.3.0/src/learner.cc:1061: Starting in XGBoost 1.3.0, the default evaluation metric used with the objective 'binary:logistic' was changed from 'error' to 'logloss'. Explicitly set eval_metric if you'd like to restore the old behavior.\n",
      "[18:39:53] WARNING: C:/Users/Administrator/workspace/xgboost-win64_release_1.3.0/src/learner.cc:1061: Starting in XGBoost 1.3.0, the default evaluation metric used with the objective 'binary:logistic' was changed from 'error' to 'logloss'. Explicitly set eval_metric if you'd like to restore the old behavior.\n",
      "[18:39:59] WARNING: C:/Users/Administrator/workspace/xgboost-win64_release_1.3.0/src/learner.cc:1061: Starting in XGBoost 1.3.0, the default evaluation metric used with the objective 'binary:logistic' was changed from 'error' to 'logloss'. Explicitly set eval_metric if you'd like to restore the old behavior.\n"
     ]
    },
    {
     "data": {
      "text/plain": [
       "[0.8460105814242643, 0.8443395940436131]"
      ]
     },
     "execution_count": 52,
     "metadata": {},
     "output_type": "execute_result"
    }
   ],
   "source": [
    "precision_list=[]\n",
    "for i in [LGBMClassifier(), XGBClassifier()]:\n",
    "    precision_list.append(cross_val_score(i, S_train_x, S_train_y, cv=5, scoring=\"precision\").mean())\n",
    "precision_list"
   ]
  },
  {
   "cell_type": "code",
   "execution_count": 53,
   "metadata": {},
   "outputs": [
    {
     "data": {
      "text/plain": [
       "<matplotlib.legend.Legend at 0x20c1aafa808>"
      ]
     },
     "execution_count": 53,
     "metadata": {},
     "output_type": "execute_result"
    },
    {
     "data": {
      "image/png": "[encoded data removed]",
      "text/plain": [
       "<Figure size 432x288 with 1 Axes>"
      ]
     },
     "metadata": {
      "needs_background": "light"
     },
     "output_type": "display_data"
    }
   ],
   "source": [
    "name_list = ['LGM','XGB']\n",
    "precision = [0.8465209880074716, 0.8485425811795706] #read this number from classification report\n",
    "recall = [0.8072810638294114, 0.8080802561371716]\n",
    "x =list(range(len(precision)))\n",
    "total_width, n = 0.8, 2\n",
    "width = total_width / n\n",
    " \n",
    "plt.bar(x, precision, width=width, label='precision',fc = 'lightblue')\n",
    "for i in range(len(x)):\n",
    "    x[i] = x[i] + width\n",
    "plt.bar(x, recall, width=width, label='recall',tick_label = name_list,fc = 'lightpink')\n",
    "plt.legend(loc=\"lower right\")"
   ]
  },
  {
   "cell_type": "code",
   "execution_count": 54,
   "metadata": {},
   "outputs": [
    {
     "name": "stderr",
     "output_type": "stream",
     "text": [
      "D:\\programs\\Anaconda3\\lib\\site-packages\\xgboost\\sklearn.py:888: UserWarning: The use of label encoder in XGBClassifier is deprecated and will be removed in a future release. To remove this warning, do the following: 1) Pass option use_label_encoder=False when constructing XGBClassifier object; and 2) Encode your labels (y) as integers starting with 0, i.e. 0, 1, 2, ..., [num_class - 1].\n",
      "  warnings.warn(label_encoder_deprecation_msg, UserWarning)\n"
     ]
    },
    {
     "name": "stdout",
     "output_type": "stream",
     "text": [
      "[18:40:06] WARNING: C:/Users/Administrator/workspace/xgboost-win64_release_1.3.0/src/learner.cc:1061: Starting in XGBoost 1.3.0, the default evaluation metric used with the objective 'binary:logistic' was changed from 'error' to 'logloss'. Explicitly set eval_metric if you'd like to restore the old behavior.\n"
     ]
    },
    {
     "data": {
      "text/plain": [
       "[<matplotlib.lines.Line2D at 0x20c1ab0e6c8>]"
      ]
     },
     "execution_count": 54,
     "metadata": {},
     "output_type": "execute_result"
    },
    {
     "data": {
      "image/png": "[encoded data removed]",
      "text/plain": [
       "<Figure size 576x576 with 1 Axes>"
      ]
     },
     "metadata": {
      "needs_background": "light"
     },
     "output_type": "display_data"
    }
   ],
   "source": [
    "fig, ax=plt.subplots(figsize=(8,8))\n",
    "for i in [LGBMClassifier(), XGBClassifier()]:\n",
    "    model=i\n",
    "    model.fit(S_train_x, S_train_y)\n",
    "    plot_roc_curve(model, test_x, test_y, ax=ax, label=str(i))\n",
    "plt.plot([0,1],[0,1])"
   ]
  },
  {
   "cell_type": "code",
   "execution_count": 55,
   "metadata": {},
   "outputs": [
    {
     "name": "stdout",
     "output_type": "stream",
     "text": [
      "[0]\tvalidation_0-auc:0.84617\tvalidation_0-error:0.21076\n",
      "[1]\tvalidation_0-auc:0.85500\tvalidation_0-error:0.21615\n"
     ]
    },
    {
     "name": "stderr",
     "output_type": "stream",
     "text": [
      "D:\\programs\\Anaconda3\\lib\\site-packages\\xgboost\\sklearn.py:888: UserWarning: The use of label encoder in XGBClassifier is deprecated and will be removed in a future release. To remove this warning, do the following: 1) Pass option use_label_encoder=False when constructing XGBClassifier object; and 2) Encode your labels (y) as integers starting with 0, i.e. 0, 1, 2, ..., [num_class - 1].\n",
      "  warnings.warn(label_encoder_deprecation_msg, UserWarning)\n"
     ]
    },
    {
     "name": "stdout",
     "output_type": "stream",
     "text": [
      "[2]\tvalidation_0-auc:0.85748\tvalidation_0-error:0.21316\n",
      "[3]\tvalidation_0-auc:0.86064\tvalidation_0-error:0.21232\n",
      "[4]\tvalidation_0-auc:0.86316\tvalidation_0-error:0.21184\n",
      "[5]\tvalidation_0-auc:0.86439\tvalidation_0-error:0.20932\n",
      "[6]\tvalidation_0-auc:0.86605\tvalidation_0-error:0.20764\n",
      "[7]\tvalidation_0-auc:0.86660\tvalidation_0-error:0.20681\n",
      "[8]\tvalidation_0-auc:0.86773\tvalidation_0-error:0.20657\n",
      "[9]\tvalidation_0-auc:0.86855\tvalidation_0-error:0.20633\n",
      "[10]\tvalidation_0-auc:0.86882\tvalidation_0-error:0.20657\n",
      "[11]\tvalidation_0-auc:0.86983\tvalidation_0-error:0.20393\n",
      "[12]\tvalidation_0-auc:0.86973\tvalidation_0-error:0.20405\n",
      "[13]\tvalidation_0-auc:0.87082\tvalidation_0-error:0.20165\n",
      "[14]\tvalidation_0-auc:0.87127\tvalidation_0-error:0.20165\n",
      "[15]\tvalidation_0-auc:0.87146\tvalidation_0-error:0.20141\n",
      "[16]\tvalidation_0-auc:0.87190\tvalidation_0-error:0.19974\n",
      "[17]\tvalidation_0-auc:0.87218\tvalidation_0-error:0.19830\n",
      "[18]\tvalidation_0-auc:0.87249\tvalidation_0-error:0.19878\n",
      "[19]\tvalidation_0-auc:0.87266\tvalidation_0-error:0.19890\n"
     ]
    },
    {
     "data": {
      "text/plain": [
       "XGBClassifier(base_score=0.5, booster='gbtree', colsample_bylevel=1,\n",
       "              colsample_bynode=1, colsample_bytree=1,\n",
       "              eval_metric=['auc', 'error'], gamma=0, gpu_id=-1,\n",
       "              importance_type='gain', interaction_constraints='',\n",
       "              learning_rate=0.300000012, max_delta_step=0, max_depth=6,\n",
       "              min_child_weight=1, missing=nan, monotone_constraints='()',\n",
       "              n_estimators=20, n_jobs=8, num_parallel_tree=1, random_state=0,\n",
       "              reg_alpha=0, reg_lambda=1, scale_pos_weight=1, subsample=1,\n",
       "              tree_method='exact', validate_parameters=1, verbosity=None)"
      ]
     },
     "execution_count": 55,
     "metadata": {},
     "output_type": "execute_result"
    }
   ],
   "source": [
    "model=XGBClassifier(n_estimators=20, eval_metric=[\"auc\", \"error\"])\n",
    "model.fit(S_train_x, S_train_y, eval_set=[(test_x, test_y)])"
   ]
  },
  {
   "cell_type": "code",
   "execution_count": 56,
   "metadata": {},
   "outputs": [],
   "source": [
    "a=\"\"\"[0]\tvalidation_0-auc:0.83125\tvalidation_0-error:0.23233\n",
    "[1]\tvalidation_0-auc:0.84327\tvalidation_0-error:0.22310\n",
    "[2]\tvalidation_0-auc:0.84765\tvalidation_0-error:0.21951\n",
    "[3]\tvalidation_0-auc:0.85205\tvalidation_0-error:0.21795\n",
    "[4]\tvalidation_0-auc:0.85323\tvalidation_0-error:0.21807\n",
    "[5]\tvalidation_0-auc:0.85384\tvalidation_0-error:0.21723\n",
    "[6]\tvalidation_0-auc:0.85526\tvalidation_0-error:0.21615\n",
    "[7]\tvalidation_0-auc:0.85721\tvalidation_0-error:0.21603\n",
    "[8]\tvalidation_0-auc:0.85776\tvalidation_0-error:0.21483\n",
    "[9]\tvalidation_0-auc:0.85836\tvalidation_0-error:0.21352\n",
    "[10]\tvalidation_0-auc:0.85922\tvalidation_0-error:0.21232\n",
    "[11]\tvalidation_0-auc:0.86094\tvalidation_0-error:0.21076\n",
    "[12]\tvalidation_0-auc:0.86159\tvalidation_0-error:0.21136\n",
    "[13]\tvalidation_0-auc:0.86229\tvalidation_0-error:0.21076\n",
    "[14]\tvalidation_0-auc:0.86264\tvalidation_0-error:0.20884\n",
    "[15]\tvalidation_0-auc:0.86285\tvalidation_0-error:0.21028\n",
    "[16]\tvalidation_0-auc:0.86274\tvalidation_0-error:0.20980\n",
    "[17]\tvalidation_0-auc:0.86308\tvalidation_0-error:0.20932\n",
    "[18]\tvalidation_0-auc:0.86382\tvalidation_0-error:0.20728\n",
    "[19]\tvalidation_0-auc:0.86390\tvalidation_0-error:0.20657\"\"\""
   ]
  },
  {
   "cell_type": "code",
   "execution_count": 57,
   "metadata": {},
   "outputs": [],
   "source": [
    "val_auc=[]\n",
    "val_error=[]\n",
    "for i in a.split(\"\\n\"):\n",
    "    val_error.append(float(i.split(\":\")[-1]))\n",
    "    val_auc.append(float(i.split(\":\")[1].split(\"\\t\")[0]))"
   ]
  },
  {
   "cell_type": "code",
   "execution_count": 58,
   "metadata": {},
   "outputs": [
    {
     "name": "stdout",
     "output_type": "stream",
     "text": [
      "[1]\tvalid_0's auc: 0.845153\n",
      "[2]\tvalid_0's auc: 0.849222\n",
      "[3]\tvalid_0's auc: 0.853252\n",
      "[4]\tvalid_0's auc: 0.855238\n",
      "[5]\tvalid_0's auc: 0.855901\n",
      "[6]\tvalid_0's auc: 0.8564\n",
      "[7]\tvalid_0's auc: 0.857589\n",
      "[8]\tvalid_0's auc: 0.859203\n",
      "[9]\tvalid_0's auc: 0.859355\n",
      "[10]\tvalid_0's auc: 0.860067\n",
      "[11]\tvalid_0's auc: 0.860555\n",
      "[12]\tvalid_0's auc: 0.860965\n",
      "[13]\tvalid_0's auc: 0.861229\n",
      "[14]\tvalid_0's auc: 0.861459\n",
      "[15]\tvalid_0's auc: 0.861864\n",
      "[16]\tvalid_0's auc: 0.862226\n",
      "[17]\tvalid_0's auc: 0.863142\n",
      "[18]\tvalid_0's auc: 0.86377\n",
      "[19]\tvalid_0's auc: 0.864401\n",
      "[20]\tvalid_0's auc: 0.864918\n"
     ]
    },
    {
     "data": {
      "text/plain": [
       "LGBMClassifier(metric='auc', n_estimators=20)"
      ]
     },
     "execution_count": 58,
     "metadata": {},
     "output_type": "execute_result"
    }
   ],
   "source": [
    "model=LGBMClassifier(n_estimators=20, metric=\"auc\")\n",
    "model.fit(S_train_x, S_train_y, eval_set=[(test_x, test_y)])"
   ]
  },
  {
   "cell_type": "code",
   "execution_count": 59,
   "metadata": {},
   "outputs": [],
   "source": [
    "b=\"\"\"[1]\tvalid_0's auc: 0.834787\n",
    "[2]\tvalid_0's auc: 0.842662\n",
    "[3]\tvalid_0's auc: 0.844505\n",
    "[4]\tvalid_0's auc: 0.845319\n",
    "[5]\tvalid_0's auc: 0.845519\n",
    "[6]\tvalid_0's auc: 0.846959\n",
    "[7]\tvalid_0's auc: 0.847916\n",
    "[8]\tvalid_0's auc: 0.84902\n",
    "[9]\tvalid_0's auc: 0.849984\n",
    "[10]\tvalid_0's auc: 0.850687\n",
    "[11]\tvalid_0's auc: 0.851616\n",
    "[12]\tvalid_0's auc: 0.852354\n",
    "[13]\tvalid_0's auc: 0.85313\n",
    "[14]\tvalid_0's auc: 0.853654\n",
    "[15]\tvalid_0's auc: 0.853839\n",
    "[16]\tvalid_0's auc: 0.854262\n",
    "[17]\tvalid_0's auc: 0.854543\n",
    "[18]\tvalid_0's auc: 0.854846\n",
    "[19]\tvalid_0's auc: 0.855305\n",
    "[20]\tvalid_0's auc: 0.856077\"\"\""
   ]
  },
  {
   "cell_type": "code",
   "execution_count": 60,
   "metadata": {},
   "outputs": [],
   "source": [
    "val_auc1=[]\n",
    "for i in b.split(\"\\n\"):\n",
    "    val_auc1.append(float(i.split(\":\")[-1]))"
   ]
  },
  {
   "cell_type": "code",
   "execution_count": 61,
   "metadata": {},
   "outputs": [
    {
     "data": {
      "text/plain": [
       "([<matplotlib.axis.XTick at 0x20c1abb5148>,\n",
       "  <matplotlib.axis.XTick at 0x20c1ac4d248>,\n",
       "  <matplotlib.axis.XTick at 0x20c1abb5848>,\n",
       "  <matplotlib.axis.XTick at 0x20c1ac8ba48>,\n",
       "  <matplotlib.axis.XTick at 0x20c1ac8d648>,\n",
       "  <matplotlib.axis.XTick at 0x20c1ac911c8>,\n",
       "  <matplotlib.axis.XTick at 0x20c1ac91e48>,\n",
       "  <matplotlib.axis.XTick at 0x20c1ac95a48>,\n",
       "  <matplotlib.axis.XTick at 0x20c1ac8bf48>,\n",
       "  <matplotlib.axis.XTick at 0x20c1ac98748>,\n",
       "  <matplotlib.axis.XTick at 0x20c1ac9b248>,\n",
       "  <matplotlib.axis.XTick at 0x20c1ac9bcc8>,\n",
       "  <matplotlib.axis.XTick at 0x20c1ac9e8c8>,\n",
       "  <matplotlib.axis.XTick at 0x20c1aca14c8>,\n",
       "  <matplotlib.axis.XTick at 0x20c1aca5048>,\n",
       "  <matplotlib.axis.XTick at 0x20c1aca5c88>,\n",
       "  <matplotlib.axis.XTick at 0x20c1aca8888>,\n",
       "  <matplotlib.axis.XTick at 0x20c1ac9b1c8>,\n",
       "  <matplotlib.axis.XTick at 0x20c1acac2c8>,\n",
       "  <matplotlib.axis.XTick at 0x20c1acacd08>,\n",
       "  <matplotlib.axis.XTick at 0x20c1acae788>],\n",
       " [Text(0, 0, ''),\n",
       "  Text(0, 0, ''),\n",
       "  Text(0, 0, ''),\n",
       "  Text(0, 0, ''),\n",
       "  Text(0, 0, ''),\n",
       "  Text(0, 0, ''),\n",
       "  Text(0, 0, ''),\n",
       "  Text(0, 0, ''),\n",
       "  Text(0, 0, ''),\n",
       "  Text(0, 0, ''),\n",
       "  Text(0, 0, ''),\n",
       "  Text(0, 0, ''),\n",
       "  Text(0, 0, ''),\n",
       "  Text(0, 0, ''),\n",
       "  Text(0, 0, ''),\n",
       "  Text(0, 0, ''),\n",
       "  Text(0, 0, ''),\n",
       "  Text(0, 0, ''),\n",
       "  Text(0, 0, ''),\n",
       "  Text(0, 0, ''),\n",
       "  Text(0, 0, '')])"
      ]
     },
     "execution_count": 61,
     "metadata": {},
     "output_type": "execute_result"
    },
    {
     "data": {
      "image/png": "[encoded data removed]",
      "text/plain": [
       "<Figure size 432x288 with 1 Axes>"
      ]
     },
     "metadata": {
      "needs_background": "light"
     },
     "output_type": "display_data"
    }
   ],
   "source": [
    "plt.plot(val_auc)\n",
    "plt.plot(val_auc1)\n",
    "plt.legend([\"XGB\", \"LGBM\"])\n",
    "plt.title(\"auc with training\")\n",
    "plt.xlabel(\"rounds\")\n",
    "plt.ylabel(\"auc score\")\n",
    "plt.xticks(list(range(21)))"
   ]
  },
  {
   "cell_type": "code",
   "execution_count": 62,
   "metadata": {},
   "outputs": [
    {
     "data": {
      "text/plain": [
       "['[0]\\tvalidation_0-auc:0.83125\\tvalidation_0-error:0.23233',\n",
       " '[1]\\tvalidation_0-auc:0.84327\\tvalidation_0-error:0.22310',\n",
       " '[2]\\tvalidation_0-auc:0.84765\\tvalidation_0-error:0.21951',\n",
       " '[3]\\tvalidation_0-auc:0.85205\\tvalidation_0-error:0.21795',\n",
       " '[4]\\tvalidation_0-auc:0.85323\\tvalidation_0-error:0.21807',\n",
       " '[5]\\tvalidation_0-auc:0.85384\\tvalidation_0-error:0.21723',\n",
       " '[6]\\tvalidation_0-auc:0.85526\\tvalidation_0-error:0.21615',\n",
       " '[7]\\tvalidation_0-auc:0.85721\\tvalidation_0-error:0.21603',\n",
       " '[8]\\tvalidation_0-auc:0.85776\\tvalidation_0-error:0.21483',\n",
       " '[9]\\tvalidation_0-auc:0.85836\\tvalidation_0-error:0.21352',\n",
       " '[10]\\tvalidation_0-auc:0.85922\\tvalidation_0-error:0.21232',\n",
       " '[11]\\tvalidation_0-auc:0.86094\\tvalidation_0-error:0.21076',\n",
       " '[12]\\tvalidation_0-auc:0.86159\\tvalidation_0-error:0.21136',\n",
       " '[13]\\tvalidation_0-auc:0.86229\\tvalidation_0-error:0.21076',\n",
       " '[14]\\tvalidation_0-auc:0.86264\\tvalidation_0-error:0.20884',\n",
       " '[15]\\tvalidation_0-auc:0.86285\\tvalidation_0-error:0.21028',\n",
       " '[16]\\tvalidation_0-auc:0.86274\\tvalidation_0-error:0.20980',\n",
       " '[17]\\tvalidation_0-auc:0.86308\\tvalidation_0-error:0.20932',\n",
       " '[18]\\tvalidation_0-auc:0.86382\\tvalidation_0-error:0.20728',\n",
       " '[19]\\tvalidation_0-auc:0.86390\\tvalidation_0-error:0.20657']"
      ]
     },
     "execution_count": 62,
     "metadata": {},
     "output_type": "execute_result"
    }
   ],
   "source": [
    "a.split(\"\\n\")"
   ]
  },
  {
   "cell_type": "code",
   "execution_count": null,
   "metadata": {},
   "outputs": [],
   "source": []
  }
 ],
 "metadata": {
  "kernelspec": {
   "display_name": "Python 3",
   "language": "python",
   "name": "python3"
  },
  "language_info": {
   "codemirror_mode": {
    "name": "ipython",
    "version": 3
   },
   "file_extension": ".py",
   "mimetype": "text/x-python",
   "name": "python",
   "nbconvert_exporter": "python",
   "pygments_lexer": "ipython3",
   "version": "3.7.9"
  }
 },
 "nbformat": 4,
 "nbformat_minor": 4
}
