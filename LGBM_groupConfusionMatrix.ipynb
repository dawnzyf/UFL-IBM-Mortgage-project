{
 "cells": [
  {
   "cell_type": "code",
   "execution_count": 1,
   "metadata": {},
   "outputs": [],
   "source": [
    "import numpy as np\n",
    "import pandas as pd\n",
    "import matplotlib.pyplot as plt\n",
    "from sklearn.model_selection import train_test_split, cross_val_score, learning_curve, validation_curve\n",
    "from sklearn.metrics import accuracy_score, confusion_matrix, precision_recall_curve, roc_auc_score, classification_report, plot_roc_curve, precision_score\n",
    "from imblearn.over_sampling import SMOTE\n",
    "from lightgbm import LGBMClassifier\n",
    "from pandasql import sqldf"
   ]
  },
  {
   "cell_type": "code",
   "execution_count": 2,
   "metadata": {},
   "outputs": [],
   "source": [
    "data=pd.read_csv(\"mortgage_data_fico.csv\")"
   ]
  },
  {
   "cell_type": "code",
   "execution_count": 3,
   "metadata": {},
   "outputs": [],
   "source": [
    "y=data[\"status_time\"].values\n",
    "x=data.drop([\"status_time\",\"FICO_orig_time\",\"FICO_group\"], axis=1).values"
   ]
  },
  {
   "cell_type": "code",
   "execution_count": 4,
   "metadata": {},
   "outputs": [
    {
     "name": "stdout",
     "output_type": "stream",
     "text": [
      "default: 15151\n",
      "pay off: 26578\n"
     ]
    }
   ],
   "source": [
    "print(\"default:\", len(data[data[\"status_time\"]==1]))\n",
    "print(\"pay off:\", len(data[data[\"status_time\"]==2]))"
   ]
  },
  {
   "cell_type": "code",
   "execution_count": 5,
   "metadata": {},
   "outputs": [],
   "source": [
    "train_x, test_x, train_y, test_y=train_test_split(x, y, train_size=0.8,random_state=7)"
   ]
  },
  {
   "cell_type": "code",
   "execution_count": 6,
   "metadata": {},
   "outputs": [
    {
     "name": "stdout",
     "output_type": "stream",
     "text": [
      "default before SMOTE: 12143\n",
      "pay off before SMOTE: 21240\n"
     ]
    }
   ],
   "source": [
    "print(\"default before SMOTE:\", len(train_y[train_y==1]))\n",
    "print(\"pay off before SMOTE:\", len(train_y[train_y==2]))"
   ]
  },
  {
   "cell_type": "code",
   "execution_count": 7,
   "metadata": {},
   "outputs": [],
   "source": [
    "SM=SMOTE(random_state=0)\n",
    "S_train_x, S_train_y=SM.fit_sample(train_x, train_y)"
   ]
  },
  {
   "cell_type": "code",
   "execution_count": 8,
   "metadata": {},
   "outputs": [
    {
     "name": "stdout",
     "output_type": "stream",
     "text": [
      "default after SMOTE: 21240\n",
      "pay off after SMOTE: 21240\n"
     ]
    }
   ],
   "source": [
    "print(\"default after SMOTE:\", len(S_train_y[S_train_y==1]))\n",
    "print(\"pay off after SMOTE:\", len(S_train_y[S_train_y==2]))"
   ]
  },
  {
   "cell_type": "code",
   "execution_count": 9,
   "metadata": {},
   "outputs": [
    {
     "name": "stdout",
     "output_type": "stream",
     "text": [
      "[1]\tvalid_0's auc: 0.822353\n",
      "[2]\tvalid_0's auc: 0.831434\n",
      "[3]\tvalid_0's auc: 0.831879\n",
      "[4]\tvalid_0's auc: 0.832978\n",
      "[5]\tvalid_0's auc: 0.83636\n",
      "[6]\tvalid_0's auc: 0.838592\n",
      "[7]\tvalid_0's auc: 0.839284\n",
      "[8]\tvalid_0's auc: 0.840696\n",
      "[9]\tvalid_0's auc: 0.841697\n",
      "[10]\tvalid_0's auc: 0.84286\n",
      "[11]\tvalid_0's auc: 0.843175\n",
      "[12]\tvalid_0's auc: 0.844121\n",
      "[13]\tvalid_0's auc: 0.844929\n",
      "[14]\tvalid_0's auc: 0.845721\n",
      "[15]\tvalid_0's auc: 0.846223\n",
      "[16]\tvalid_0's auc: 0.846658\n",
      "[17]\tvalid_0's auc: 0.847165\n",
      "[18]\tvalid_0's auc: 0.847734\n",
      "[19]\tvalid_0's auc: 0.848212\n",
      "[20]\tvalid_0's auc: 0.849025\n",
      "[21]\tvalid_0's auc: 0.849057\n",
      "[22]\tvalid_0's auc: 0.849454\n",
      "[23]\tvalid_0's auc: 0.84987\n",
      "[24]\tvalid_0's auc: 0.85048\n",
      "[25]\tvalid_0's auc: 0.850549\n",
      "[26]\tvalid_0's auc: 0.850959\n",
      "[27]\tvalid_0's auc: 0.851497\n",
      "[28]\tvalid_0's auc: 0.851524\n",
      "[29]\tvalid_0's auc: 0.852145\n",
      "[30]\tvalid_0's auc: 0.852399\n",
      "[31]\tvalid_0's auc: 0.852759\n",
      "[32]\tvalid_0's auc: 0.853152\n",
      "[33]\tvalid_0's auc: 0.85346\n",
      "[34]\tvalid_0's auc: 0.853906\n",
      "[35]\tvalid_0's auc: 0.854271\n",
      "[36]\tvalid_0's auc: 0.854458\n",
      "[37]\tvalid_0's auc: 0.854783\n",
      "[38]\tvalid_0's auc: 0.854916\n",
      "[39]\tvalid_0's auc: 0.855413\n",
      "[40]\tvalid_0's auc: 0.855667\n",
      "[41]\tvalid_0's auc: 0.855805\n",
      "[42]\tvalid_0's auc: 0.856072\n",
      "[43]\tvalid_0's auc: 0.856347\n",
      "[44]\tvalid_0's auc: 0.85672\n",
      "[45]\tvalid_0's auc: 0.856949\n",
      "[46]\tvalid_0's auc: 0.857\n",
      "[47]\tvalid_0's auc: 0.857305\n",
      "[48]\tvalid_0's auc: 0.857524\n",
      "[49]\tvalid_0's auc: 0.85798\n",
      "[50]\tvalid_0's auc: 0.858104\n",
      "[51]\tvalid_0's auc: 0.858356\n",
      "[52]\tvalid_0's auc: 0.85858\n",
      "[53]\tvalid_0's auc: 0.858746\n",
      "[54]\tvalid_0's auc: 0.858851\n",
      "[55]\tvalid_0's auc: 0.858882\n",
      "[56]\tvalid_0's auc: 0.858944\n",
      "[57]\tvalid_0's auc: 0.85906\n",
      "[58]\tvalid_0's auc: 0.859139\n",
      "[59]\tvalid_0's auc: 0.859327\n",
      "[60]\tvalid_0's auc: 0.859431\n",
      "[61]\tvalid_0's auc: 0.859574\n",
      "[62]\tvalid_0's auc: 0.859658\n",
      "[63]\tvalid_0's auc: 0.859741\n",
      "[64]\tvalid_0's auc: 0.859899\n",
      "[65]\tvalid_0's auc: 0.860004\n",
      "[66]\tvalid_0's auc: 0.860019\n",
      "[67]\tvalid_0's auc: 0.860153\n",
      "[68]\tvalid_0's auc: 0.860028\n",
      "[69]\tvalid_0's auc: 0.860051\n",
      "[70]\tvalid_0's auc: 0.860085\n",
      "[71]\tvalid_0's auc: 0.860236\n",
      "[72]\tvalid_0's auc: 0.860341\n",
      "[73]\tvalid_0's auc: 0.860374\n",
      "[74]\tvalid_0's auc: 0.860523\n",
      "[75]\tvalid_0's auc: 0.860687\n",
      "[76]\tvalid_0's auc: 0.860865\n",
      "[77]\tvalid_0's auc: 0.861034\n",
      "[78]\tvalid_0's auc: 0.861146\n",
      "[79]\tvalid_0's auc: 0.861242\n",
      "[80]\tvalid_0's auc: 0.861247\n",
      "[81]\tvalid_0's auc: 0.861379\n",
      "[82]\tvalid_0's auc: 0.861428\n",
      "[83]\tvalid_0's auc: 0.861618\n",
      "[84]\tvalid_0's auc: 0.861612\n",
      "[85]\tvalid_0's auc: 0.86165\n",
      "[86]\tvalid_0's auc: 0.86176\n",
      "[87]\tvalid_0's auc: 0.861745\n",
      "[88]\tvalid_0's auc: 0.861743\n",
      "[89]\tvalid_0's auc: 0.861753\n",
      "[90]\tvalid_0's auc: 0.861817\n",
      "[91]\tvalid_0's auc: 0.861721\n",
      "[92]\tvalid_0's auc: 0.861778\n",
      "[93]\tvalid_0's auc: 0.861916\n",
      "[94]\tvalid_0's auc: 0.86188\n",
      "[95]\tvalid_0's auc: 0.861938\n",
      "[96]\tvalid_0's auc: 0.861996\n",
      "[97]\tvalid_0's auc: 0.862017\n",
      "[98]\tvalid_0's auc: 0.862139\n",
      "[99]\tvalid_0's auc: 0.862092\n",
      "[100]\tvalid_0's auc: 0.862133\n"
     ]
    },
    {
     "data": {
      "text/plain": [
       "LGBMClassifier(metric='auc')"
      ]
     },
     "execution_count": 9,
     "metadata": {},
     "output_type": "execute_result"
    }
   ],
   "source": [
    "model=LGBMClassifier(n_estimators=100,metric=\"auc\")\n",
    "model.fit(S_train_x,S_train_y,eval_set=[(test_x, test_y)])"
   ]
  },
  {
   "cell_type": "code",
   "execution_count": 11,
   "metadata": {},
   "outputs": [
    {
     "name": "stdout",
     "output_type": "stream",
     "text": [
      "              precision    recall  f1-score   support\n",
      "\n",
      "           0       0.73      0.71      0.72      3008\n",
      "           1       0.84      0.85      0.85      5338\n",
      "\n",
      "    accuracy                           0.80      8346\n",
      "   macro avg       0.79      0.78      0.78      8346\n",
      "weighted avg       0.80      0.80      0.80      8346\n",
      "\n"
     ]
    }
   ],
   "source": [
    "y_pred = model.predict(test_x)\n",
    "cm=confusion_matrix(test_y,y_pred)\n",
    "print(classification_report(test_y-1,y_pred-1))"
   ]
  },
  {
   "cell_type": "code",
   "execution_count": 12,
   "metadata": {},
   "outputs": [
    {
     "data": {
      "image/png": "[encoded data removed]",
      "text/plain": [
       "<Figure size 288x288 with 2 Axes>"
      ]
     },
     "metadata": {
      "needs_background": "light"
     },
     "output_type": "display_data"
    }
   ],
   "source": [
    "plt.matshow(cm,cmap=plt.cm.Greens)\n",
    "plt.colorbar()\n",
    "plt.annotate(cm[0,1],xy=(0,1))\n",
    "plt.annotate(cm[1,1],xy=(1,1))\n",
    "plt.annotate(cm[0,0],xy=(0,0))\n",
    "plt.annotate(cm[1,0],xy=(1,0))\n",
    "plt.ylabel(\"Predicted Values\")\n",
    "plt.xlabel(\"Actual Values\")\n",
    "plt.title(\"Confusion Matrix for LGBM model\")\n",
    "plt.show()"
   ]
  },
  {
   "cell_type": "code",
   "execution_count": 13,
   "metadata": {},
   "outputs": [
    {
     "data": {
      "text/plain": [
       "0.8260828625235405"
      ]
     },
     "execution_count": 13,
     "metadata": {},
     "output_type": "execute_result"
    }
   ],
   "source": [
    "cross_val_score(model, S_train_x, S_train_y, cv=5, scoring=\"accuracy\").mean()"
   ]
  },
  {
   "cell_type": "code",
   "execution_count": 14,
   "metadata": {},
   "outputs": [
    {
     "data": {
      "image/png": "[encoded data removed]",
      "text/plain": [
       "<Figure size 576x576 with 1 Axes>"
      ]
     },
     "metadata": {
      "needs_background": "light"
     },
     "output_type": "display_data"
    }
   ],
   "source": [
    "fig, ax=plt.subplots(figsize=(8,8))\n",
    "plot_roc_curve(model, test_x, test_y, ax=ax, label=\"LGBM, AUC=0.868\",color=\"lightcoral\")\n",
    "plt.title(\"ROC curve of LGBM model\",fontsize=15)\n",
    "plt.plot([0,1],[0,1],\"g--\")\n",
    "plt.show()"
   ]
  }
 ],
 "metadata": {
  "kernelspec": {
   "display_name": "Python 3",
   "language": "python",
   "name": "python3"
  },
  "language_info": {
   "codemirror_mode": {
    "name": "ipython",
    "version": 3
   },
   "file_extension": ".py",
   "mimetype": "text/x-python",
   "name": "python",
   "nbconvert_exporter": "python",
   "pygments_lexer": "ipython3",
   "version": "3.7.10"
  }
 },
 "nbformat": 4,
 "nbformat_minor": 2
}
