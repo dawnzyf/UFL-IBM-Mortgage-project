{
 "cells": [
  {
   "cell_type": "code",
   "execution_count": 1,
   "metadata": {},
   "outputs": [],
   "source": [
    "import numpy as np\n",
    "import pandas as pd\n",
    "import matplotlib.pyplot as plt\n",
    "from sklearn.model_selection import train_test_split, cross_val_score, learning_curve, validation_curve\n",
    "from sklearn.metrics import accuracy_score, confusion_matrix, precision_recall_curve, roc_auc_score, classification_report, plot_roc_curve, precision_score\n",
    "from imblearn.over_sampling import SMOTE\n",
    "from lightgbm import LGBMClassifier"
   ]
  },
  {
   "cell_type": "code",
   "execution_count": 2,
   "metadata": {},
   "outputs": [],
   "source": [
    "#load data\n",
    "data=pd.read_csv(\"mortgage_final_data.csv\")"
   ]
  },
  {
   "cell_type": "code",
   "execution_count": 3,
   "metadata": {},
   "outputs": [],
   "source": [
    "#define independent and dependent variables\n",
    "y=data[\"status_time\"].values\n",
    "x=data.drop([\"status_time\",\"id\"], axis=1).values"
   ]
  },
  {
   "cell_type": "code",
   "execution_count": 4,
   "metadata": {},
   "outputs": [
    {
     "name": "stdout",
     "output_type": "stream",
     "text": [
      "default: 15151\n",
      "pay off: 26578\n"
     ]
    }
   ],
   "source": [
    "#print distribution of dependent variable\n",
    "print(\"default:\", len(data[data[\"status_time\"]==1]))\n",
    "print(\"pay off:\", len(data[data[\"status_time\"]==2]))"
   ]
  },
  {
   "cell_type": "code",
   "execution_count": 5,
   "metadata": {},
   "outputs": [],
   "source": [
    "#split train and test set\n",
    "train_x, test_x, train_y, test_y=train_test_split(x, y, train_size=0.8,random_state=7)"
   ]
  },
  {
   "cell_type": "code",
   "execution_count": 6,
   "metadata": {},
   "outputs": [
    {
     "name": "stdout",
     "output_type": "stream",
     "text": [
      "default before SMOTE: 12143\n",
      "pay off before SMOTE: 21240\n"
     ]
    }
   ],
   "source": [
    "#display the number of train set\n",
    "print(\"default before SMOTE:\", len(train_y[train_y==1]))\n",
    "print(\"pay off before SMOTE:\", len(train_y[train_y==2]))"
   ]
  },
  {
   "cell_type": "code",
   "execution_count": 7,
   "metadata": {},
   "outputs": [],
   "source": [
    "#use SMOTE to deal with imbalanced data\n",
    "SM=SMOTE(random_state=0)\n",
    "S_train_x, S_train_y=SM.fit_sample(train_x, train_y)"
   ]
  },
  {
   "cell_type": "code",
   "execution_count": 8,
   "metadata": {},
   "outputs": [
    {
     "name": "stdout",
     "output_type": "stream",
     "text": [
      "default after SMOTE: 21240\n",
      "pay off after SMOTE: 21240\n"
     ]
    }
   ],
   "source": [
    "#display the number of training set after SMOTE\n",
    "print(\"default after SMOTE:\", len(S_train_y[S_train_y==1]))\n",
    "print(\"pay off after SMOTE:\", len(S_train_y[S_train_y==2]))"
   ]
  },
  {
   "cell_type": "code",
   "execution_count": 9,
   "metadata": {},
   "outputs": [
    {
     "name": "stdout",
     "output_type": "stream",
     "text": [
      "[1]\tvalid_0's auc: 0.832253\n",
      "[2]\tvalid_0's auc: 0.837857\n",
      "[3]\tvalid_0's auc: 0.839009\n",
      "[4]\tvalid_0's auc: 0.84294\n",
      "[5]\tvalid_0's auc: 0.843956\n",
      "[6]\tvalid_0's auc: 0.844655\n",
      "[7]\tvalid_0's auc: 0.8465\n",
      "[8]\tvalid_0's auc: 0.847802\n",
      "[9]\tvalid_0's auc: 0.848777\n",
      "[10]\tvalid_0's auc: 0.85019\n",
      "[11]\tvalid_0's auc: 0.850709\n",
      "[12]\tvalid_0's auc: 0.851589\n",
      "[13]\tvalid_0's auc: 0.852387\n",
      "[14]\tvalid_0's auc: 0.852967\n",
      "[15]\tvalid_0's auc: 0.853969\n",
      "[16]\tvalid_0's auc: 0.85437\n",
      "[17]\tvalid_0's auc: 0.854981\n",
      "[18]\tvalid_0's auc: 0.855398\n",
      "[19]\tvalid_0's auc: 0.855661\n",
      "[20]\tvalid_0's auc: 0.855743\n",
      "[21]\tvalid_0's auc: 0.856118\n",
      "[22]\tvalid_0's auc: 0.85628\n",
      "[23]\tvalid_0's auc: 0.857025\n",
      "[24]\tvalid_0's auc: 0.857304\n",
      "[25]\tvalid_0's auc: 0.857955\n",
      "[26]\tvalid_0's auc: 0.858273\n",
      "[27]\tvalid_0's auc: 0.858526\n",
      "[28]\tvalid_0's auc: 0.858832\n",
      "[29]\tvalid_0's auc: 0.859266\n",
      "[30]\tvalid_0's auc: 0.859626\n",
      "[31]\tvalid_0's auc: 0.859995\n",
      "[32]\tvalid_0's auc: 0.860207\n",
      "[33]\tvalid_0's auc: 0.860607\n",
      "[34]\tvalid_0's auc: 0.860797\n",
      "[35]\tvalid_0's auc: 0.861279\n",
      "[36]\tvalid_0's auc: 0.861513\n",
      "[37]\tvalid_0's auc: 0.861763\n",
      "[38]\tvalid_0's auc: 0.862012\n",
      "[39]\tvalid_0's auc: 0.862136\n",
      "[40]\tvalid_0's auc: 0.862435\n",
      "[41]\tvalid_0's auc: 0.862717\n",
      "[42]\tvalid_0's auc: 0.862986\n",
      "[43]\tvalid_0's auc: 0.863286\n",
      "[44]\tvalid_0's auc: 0.86348\n",
      "[45]\tvalid_0's auc: 0.863702\n",
      "[46]\tvalid_0's auc: 0.86398\n",
      "[47]\tvalid_0's auc: 0.864282\n",
      "[48]\tvalid_0's auc: 0.86453\n",
      "[49]\tvalid_0's auc: 0.864696\n",
      "[50]\tvalid_0's auc: 0.864803\n",
      "[51]\tvalid_0's auc: 0.864937\n",
      "[52]\tvalid_0's auc: 0.865304\n",
      "[53]\tvalid_0's auc: 0.865301\n",
      "[54]\tvalid_0's auc: 0.86553\n",
      "[55]\tvalid_0's auc: 0.86569\n",
      "[56]\tvalid_0's auc: 0.865776\n",
      "[57]\tvalid_0's auc: 0.866013\n",
      "[58]\tvalid_0's auc: 0.866121\n",
      "[59]\tvalid_0's auc: 0.866318\n",
      "[60]\tvalid_0's auc: 0.866437\n",
      "[61]\tvalid_0's auc: 0.86657\n",
      "[62]\tvalid_0's auc: 0.866733\n",
      "[63]\tvalid_0's auc: 0.866844\n",
      "[64]\tvalid_0's auc: 0.866836\n",
      "[65]\tvalid_0's auc: 0.866892\n",
      "[66]\tvalid_0's auc: 0.867097\n",
      "[67]\tvalid_0's auc: 0.867137\n",
      "[68]\tvalid_0's auc: 0.867134\n",
      "[69]\tvalid_0's auc: 0.867247\n",
      "[70]\tvalid_0's auc: 0.867144\n",
      "[71]\tvalid_0's auc: 0.867176\n",
      "[72]\tvalid_0's auc: 0.867185\n",
      "[73]\tvalid_0's auc: 0.867188\n",
      "[74]\tvalid_0's auc: 0.867256\n",
      "[75]\tvalid_0's auc: 0.867271\n",
      "[76]\tvalid_0's auc: 0.867302\n",
      "[77]\tvalid_0's auc: 0.867249\n",
      "[78]\tvalid_0's auc: 0.867186\n",
      "[79]\tvalid_0's auc: 0.867268\n",
      "[80]\tvalid_0's auc: 0.867309\n",
      "[81]\tvalid_0's auc: 0.867366\n",
      "[82]\tvalid_0's auc: 0.867472\n",
      "[83]\tvalid_0's auc: 0.86756\n",
      "[84]\tvalid_0's auc: 0.867597\n",
      "[85]\tvalid_0's auc: 0.86754\n",
      "[86]\tvalid_0's auc: 0.867509\n",
      "[87]\tvalid_0's auc: 0.867576\n",
      "[88]\tvalid_0's auc: 0.867554\n",
      "[89]\tvalid_0's auc: 0.867594\n",
      "[90]\tvalid_0's auc: 0.867634\n",
      "[91]\tvalid_0's auc: 0.867688\n",
      "[92]\tvalid_0's auc: 0.867682\n",
      "[93]\tvalid_0's auc: 0.867777\n",
      "[94]\tvalid_0's auc: 0.867813\n",
      "[95]\tvalid_0's auc: 0.867861\n",
      "[96]\tvalid_0's auc: 0.867741\n",
      "[97]\tvalid_0's auc: 0.867705\n",
      "[98]\tvalid_0's auc: 0.867724\n",
      "[99]\tvalid_0's auc: 0.867782\n",
      "[100]\tvalid_0's auc: 0.867935\n"
     ]
    },
    {
     "data": {
      "text/plain": [
       "LGBMClassifier(metric='auc')"
      ]
     },
     "execution_count": 9,
     "metadata": {},
     "output_type": "execute_result"
    }
   ],
   "source": [
    "#Train the model\n",
    "model=LGBMClassifier(n_estimators=100,metric=\"auc\")\n",
    "model.fit(S_train_x,S_train_y,eval_set=[(test_x, test_y)])"
   ]
  },
  {
   "cell_type": "code",
   "execution_count": 10,
   "metadata": {},
   "outputs": [
    {
     "name": "stdout",
     "output_type": "stream",
     "text": [
      "              precision    recall  f1-score   support\n",
      "\n",
      "           1       0.73      0.72      0.73      3008\n",
      "           2       0.85      0.85      0.85      5338\n",
      "\n",
      "    accuracy                           0.81      8346\n",
      "   macro avg       0.79      0.79      0.79      8346\n",
      "weighted avg       0.81      0.81      0.81      8346\n",
      "\n"
     ]
    }
   ],
   "source": [
    "#Calculate the confusion matrix\n",
    "y_pred = model.predict(test_x)\n",
    "cm=confusion_matrix(test_y,y_pred)\n",
    "print(classification_report(test_y,y_pred))"
   ]
  },
  {
   "cell_type": "code",
   "execution_count": 11,
   "metadata": {},
   "outputs": [
    {
     "data": {
      "image/png": "[encoded data removed]",
      "text/plain": [
       "<Figure size 288x288 with 2 Axes>"
      ]
     },
     "metadata": {
      "needs_background": "light"
     },
     "output_type": "display_data"
    }
   ],
   "source": [
    "#Visualize the confusion matrix\n",
    "plt.matshow(cm,cmap=plt.cm.Greens)\n",
    "plt.colorbar()\n",
    "plt.annotate(cm[0,1],xy=(0,1))\n",
    "plt.annotate(cm[1,1],xy=(1,1))\n",
    "plt.annotate(cm[0,0],xy=(0,0))\n",
    "plt.annotate(cm[1,0],xy=(1,0))\n",
    "plt.ylabel(\"Predicted Values\")\n",
    "plt.xlabel(\"Actual Values\")\n",
    "plt.title(\"Confusion Matrix for LGBM model\")\n",
    "plt.show()"
   ]
  },
  {
   "cell_type": "code",
   "execution_count": 12,
   "metadata": {},
   "outputs": [
    {
     "data": {
      "text/plain": [
       "0.8317325800376647"
      ]
     },
     "execution_count": 12,
     "metadata": {},
     "output_type": "execute_result"
    }
   ],
   "source": [
    "#Find the average accuracy of K-Fold Validation(K=5)\n",
    "cross_val_score(model, S_train_x, S_train_y, cv=5, scoring=\"accuracy\").mean()"
   ]
  },
  {
   "cell_type": "code",
   "execution_count": 13,
   "metadata": {},
   "outputs": [
    {
     "data": {
      "image/png": "[encoded data removed]",
      "text/plain": [
       "<Figure size 576x576 with 1 Axes>"
      ]
     },
     "metadata": {
      "needs_background": "light"
     },
     "output_type": "display_data"
    }
   ],
   "source": [
    "#Draw the ROC curve and calculate the AUC.\n",
    "fig, ax=plt.subplots(figsize=(8,8))\n",
    "plot_roc_curve(model, test_x, test_y, ax=ax, label=\"LGBM, AUC=0.868\",color=\"lightcoral\")\n",
    "plt.title(\"ROC curve of LGBM model\",fontsize=15)\n",
    "plt.plot([0,1],[0,1],\"g--\")\n",
    "plt.show()"
   ]
  },
  {
   "cell_type": "code",
   "execution_count": null,
   "metadata": {},
   "outputs": [],
   "source": []
  }
 ],
 "metadata": {
  "kernelspec": {
   "display_name": "Python 3",
   "language": "python",
   "name": "python3"
  },
  "language_info": {
   "codemirror_mode": {
    "name": "ipython",
    "version": 3
   },
   "file_extension": ".py",
   "mimetype": "text/x-python",
   "name": "python",
   "nbconvert_exporter": "python",
   "pygments_lexer": "ipython3",
   "version": "3.7.10"
  }
 },
 "nbformat": 4,
 "nbformat_minor": 4
}
